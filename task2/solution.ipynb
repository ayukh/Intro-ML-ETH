{
 "cells": [
  {
   "cell_type": "markdown",
   "id": "4681d1e8-1b73-4bea-a764-e68d8390a93c",
   "metadata": {
    "tags": []
   },
   "source": [
    "# Main code"
   ]
  },
  {
   "cell_type": "code",
   "execution_count": 138,
   "id": "5f36896a-c151-46f6-926e-26f1936a997b",
   "metadata": {},
   "outputs": [
    {
     "name": "stdout",
     "output_type": "stream",
     "text": [
      "X train shape:  (631, 10)\n",
      "Y train shape:  (631,)\n",
      "X test shape:  (100, 10)\n",
      "Fitting 5 folds for each of 648 candidates, totalling 3240 fits\n",
      "Best train score:  0.977129415129544\n",
      "Model params:  {'colsample_bytree': 0.8, 'learning_rate': 0.09, 'max_depth': 6, 'min_child_weight': 8, 'nthread': 4, 'subsample': 0.85}\n",
      "\n",
      "Results file successfully generated!\n"
     ]
    }
   ],
   "source": [
    "# This serves as a template which will guide you through the implementation of this task.  It is advised\n",
    "# to first read the whole template and get a sense of the overall structure of the code before trying to fill in any of the TODO gaps\n",
    "# First, we import necessary libraries:\n",
    "import numpy as np\n",
    "import pandas as pd\n",
    "from sklearn.impute import KNNImputer\n",
    "from sklearn.gaussian_process import GaussianProcessRegressor\n",
    "from sklearn.gaussian_process.kernels import DotProduct, RBF, Matern, WhiteKernel\n",
    "import xgboost\n",
    "from xgboost import XGBRegressor, plot_importance\n",
    "from sklearn.model_selection import GridSearchCV\n",
    "from sklearn.model_selection import train_test_split\n",
    "from sklearn.metrics import r2_score\n",
    "import warnings\n",
    "warnings.filterwarnings(\"ignore\")\n",
    "\n",
    "def data_loading():\n",
    "    \"\"\"\n",
    "    This function loads the training and test data, preprocesses it, removes the NaN values and interpolates the missing \n",
    "    data using imputation\n",
    "\n",
    "    Parameters\n",
    "    ----------\n",
    "    Returns\n",
    "    ----------\n",
    "    X_train: matrix of floats, training input with features\n",
    "    y_train: array of floats, training output with labels\n",
    "    X_test: matrix of floats: dim = (100, ?), test input with features\n",
    "    \"\"\"\n",
    "    # Load training data\n",
    "    train = pd.read_csv(\"train.csv\")\n",
    "    \n",
    "    #print(\"Training data:\")\n",
    "    #print(\"Shape:\", train_df.shape)\n",
    "    #print(train_df.head(2))\n",
    "    #print('\\n')\n",
    "    \n",
    "    # Load test data\n",
    "    test = pd.read_csv(\"test.csv\")\n",
    "\n",
    "    #print(\"Test data:\")\n",
    "    #print(test_df.shape)\n",
    "    #print(test_df.head(2))\n",
    "\n",
    "    # TODO: Perform data preprocessing, imputation and extract X_train, y_train and X_test\n",
    "    \n",
    "    # Impute missing data using KNN Imputer for train set\n",
    "\n",
    "    train_new = train.dropna(subset=['price_CHF'])\n",
    "\n",
    "    num_cols = train_new.columns[1:]\n",
    "\n",
    "    imputer = KNNImputer(n_neighbors=5)\n",
    "    train_new[num_cols] = imputer.fit_transform(train_new[num_cols])\n",
    "    \n",
    "    # Either drop nan rows or impute for test\n",
    "    test_new = test.copy()\n",
    "    num_cols = test_new.columns[1:]\n",
    "\n",
    "    imputer = KNNImputer(n_neighbors=5)\n",
    "    test_new[num_cols] = imputer.fit_transform(test_new[num_cols])\n",
    "    \n",
    "    # Encode categorical variable (season)\n",
    "    train_new[\"season\"] = train_new[\"season\"].astype('category')\n",
    "    train_new[\"season\"] = train_new[\"season\"].cat.codes\n",
    "\n",
    "    test_new[\"season\"] = test_new[\"season\"].astype('category')\n",
    "    test_new[\"season\"] = test_new[\"season\"].cat.codes\n",
    "\n",
    "    ind_cols = ['season', 'price_AUS', 'price_CZE', 'price_GER',\n",
    "           'price_ESP', 'price_FRA', 'price_UK', 'price_ITA', 'price_POL', 'price_SVK']\n",
    "    dep_col = 'price_CHF'\n",
    "        \n",
    "    # Import new data as train/test for modelling\n",
    "    X_train = train_new[ind_cols]\n",
    "    y_train = train_new[dep_col]\n",
    "    X_test = test_new\n",
    "\n",
    "    print(\"X train shape: \", X_train.shape)\n",
    "    print(\"Y train shape: \", y_train.shape)\n",
    "    print(\"X test shape: \", X_test.shape)\n",
    "\n",
    "    assert (X_train.shape[1] == X_test.shape[1]) and (X_train.shape[0] == y_train.shape[0]) and (X_test.shape[0] == 100), \"Invalid data shape\"\n",
    "    return X_train, y_train, X_test\n",
    "\n",
    "def modeling_and_prediction(X_train, y_train, X_test):\n",
    "    \"\"\"\n",
    "    This function defines the model, fits training data and then does the prediction with the test data \n",
    "\n",
    "    Parameters\n",
    "    ----------\n",
    "    X_train: matrix of floats, training input with 10 features\n",
    "    y_train: array of floats, training output\n",
    "    X_test: matrix of floats: dim = (100, ?), test input with 10 features\n",
    "\n",
    "    Returns\n",
    "    ----------\n",
    "    y_test: array of floats: dim = (100,), predictions on test set\n",
    "    \"\"\"\n",
    "\n",
    "    #X_train_new, X_valid, y_train_new, y_valid = train_test_split(X_train, y_train, test_size = 0.20, shuffle = True)\n",
    "    X_train_new = X_train\n",
    "    y_train_new = y_train\n",
    "\n",
    "    xgbr = XGBRegressor()\n",
    "\n",
    "    xgb_params = {'nthread':[4], #when use hyperthread, xgboost may become slower\n",
    "                  'learning_rate': [.03, .05, .07, .01, .007, .09], \n",
    "                  'max_depth': [6, 7, 8, 9],\n",
    "                  'min_child_weight': [4, 8, 12],\n",
    "                  'subsample': [0.7, 0.8, 0.85],\n",
    "                  'colsample_bytree': [0.7, 0.8, 0.85]\n",
    "                  }\n",
    "\n",
    "    gsXGB = GridSearchCV(xgbr, xgb_params, cv = 5, scoring='r2', \n",
    "                         refit=True, n_jobs = 5, verbose=True)\n",
    "    gsXGB.fit(X_train, y_train)\n",
    "\n",
    "    XGB_best = gsXGB.best_estimator_\n",
    "    print(\"Best train score: \", gsXGB.best_score_)\n",
    "    print(\"Model params: \", gsXGB.best_params_)\n",
    "    \n",
    "    y_pred = XGB_best.predict(X_test)\n",
    "    \n",
    "    assert y_pred.shape == (100,), \"Invalid data shape\"\n",
    "    return y_pred\n",
    "\n",
    "# Main function. You don't have to change this\n",
    "if __name__ == \"__main__\":\n",
    "    # Data loading\n",
    "    X_train, y_train, X_test = data_loading()\n",
    "    # The function retrieving optimal LR parameters\n",
    "    y_pred=modeling_and_prediction(X_train, y_train, X_test)\n",
    "    # Save results in the required format\n",
    "    dt = pd.DataFrame(y_pred) \n",
    "    dt.columns = ['price_CHF']\n",
    "    dt.to_csv('results.csv', index=False)\n",
    "    print(\"\\nResults file successfully generated!\")"
   ]
  },
  {
   "cell_type": "markdown",
   "id": "b15fede2-911c-4554-8435-a62393acb536",
   "metadata": {},
   "source": [
    "# Experiments start here"
   ]
  },
  {
   "cell_type": "markdown",
   "id": "9b3be337-1cdd-4953-af80-b08c887ad0e0",
   "metadata": {},
   "source": [
    "## EDA"
   ]
  },
  {
   "cell_type": "markdown",
   "id": "a98e783c-db8f-49c3-a127-20432de51ab7",
   "metadata": {},
   "source": [
    "### Inspect the data"
   ]
  },
  {
   "cell_type": "code",
   "execution_count": 5,
   "id": "ef875706-317c-4817-b56d-cc805639da15",
   "metadata": {},
   "outputs": [
    {
     "data": {
      "text/html": [
       "<div>\n",
       "<style scoped>\n",
       "    .dataframe tbody tr th:only-of-type {\n",
       "        vertical-align: middle;\n",
       "    }\n",
       "\n",
       "    .dataframe tbody tr th {\n",
       "        vertical-align: top;\n",
       "    }\n",
       "\n",
       "    .dataframe thead th {\n",
       "        text-align: right;\n",
       "    }\n",
       "</style>\n",
       "<table border=\"1\" class=\"dataframe\">\n",
       "  <thead>\n",
       "    <tr style=\"text-align: right;\">\n",
       "      <th></th>\n",
       "      <th>season</th>\n",
       "      <th>price_AUS</th>\n",
       "      <th>price_CHF</th>\n",
       "      <th>price_CZE</th>\n",
       "      <th>price_GER</th>\n",
       "      <th>price_ESP</th>\n",
       "      <th>price_FRA</th>\n",
       "      <th>price_UK</th>\n",
       "      <th>price_ITA</th>\n",
       "      <th>price_POL</th>\n",
       "      <th>price_SVK</th>\n",
       "    </tr>\n",
       "  </thead>\n",
       "  <tbody>\n",
       "    <tr>\n",
       "      <th>0</th>\n",
       "      <td>spring</td>\n",
       "      <td>NaN</td>\n",
       "      <td>9.644028</td>\n",
       "      <td>-1.686248</td>\n",
       "      <td>-1.748076</td>\n",
       "      <td>-3.666005</td>\n",
       "      <td>NaN</td>\n",
       "      <td>-1.822720</td>\n",
       "      <td>-3.931031</td>\n",
       "      <td>NaN</td>\n",
       "      <td>-3.238197</td>\n",
       "    </tr>\n",
       "    <tr>\n",
       "      <th>1</th>\n",
       "      <td>summer</td>\n",
       "      <td>NaN</td>\n",
       "      <td>7.246061</td>\n",
       "      <td>-2.132377</td>\n",
       "      <td>-2.054363</td>\n",
       "      <td>-3.295697</td>\n",
       "      <td>-4.104759</td>\n",
       "      <td>-1.826021</td>\n",
       "      <td>NaN</td>\n",
       "      <td>NaN</td>\n",
       "      <td>-3.212894</td>\n",
       "    </tr>\n",
       "    <tr>\n",
       "      <th>2</th>\n",
       "      <td>autumn</td>\n",
       "      <td>-2.101937</td>\n",
       "      <td>7.620085</td>\n",
       "      <td>-1.910282</td>\n",
       "      <td>NaN</td>\n",
       "      <td>-3.388777</td>\n",
       "      <td>NaN</td>\n",
       "      <td>-2.034409</td>\n",
       "      <td>-4.073850</td>\n",
       "      <td>NaN</td>\n",
       "      <td>-3.114061</td>\n",
       "    </tr>\n",
       "    <tr>\n",
       "      <th>3</th>\n",
       "      <td>winter</td>\n",
       "      <td>-2.098475</td>\n",
       "      <td>8.411894</td>\n",
       "      <td>-1.903834</td>\n",
       "      <td>NaN</td>\n",
       "      <td>-3.588235</td>\n",
       "      <td>NaN</td>\n",
       "      <td>-2.214720</td>\n",
       "      <td>-4.018620</td>\n",
       "      <td>-2.330803</td>\n",
       "      <td>NaN</td>\n",
       "    </tr>\n",
       "    <tr>\n",
       "      <th>4</th>\n",
       "      <td>spring</td>\n",
       "      <td>-1.969687</td>\n",
       "      <td>8.926884</td>\n",
       "      <td>-1.697257</td>\n",
       "      <td>-1.331049</td>\n",
       "      <td>NaN</td>\n",
       "      <td>-3.911096</td>\n",
       "      <td>-2.388092</td>\n",
       "      <td>-4.093946</td>\n",
       "      <td>NaN</td>\n",
       "      <td>NaN</td>\n",
       "    </tr>\n",
       "  </tbody>\n",
       "</table>\n",
       "</div>"
      ],
      "text/plain": [
       "   season  price_AUS  price_CHF  price_CZE  price_GER  price_ESP  price_FRA  \\\n",
       "0  spring        NaN   9.644028  -1.686248  -1.748076  -3.666005        NaN   \n",
       "1  summer        NaN   7.246061  -2.132377  -2.054363  -3.295697  -4.104759   \n",
       "2  autumn  -2.101937   7.620085  -1.910282        NaN  -3.388777        NaN   \n",
       "3  winter  -2.098475   8.411894  -1.903834        NaN  -3.588235        NaN   \n",
       "4  spring  -1.969687   8.926884  -1.697257  -1.331049        NaN  -3.911096   \n",
       "\n",
       "   price_UK  price_ITA  price_POL  price_SVK  \n",
       "0 -1.822720  -3.931031        NaN  -3.238197  \n",
       "1 -1.826021        NaN        NaN  -3.212894  \n",
       "2 -2.034409  -4.073850        NaN  -3.114061  \n",
       "3 -2.214720  -4.018620  -2.330803        NaN  \n",
       "4 -2.388092  -4.093946        NaN        NaN  "
      ]
     },
     "execution_count": 5,
     "metadata": {},
     "output_type": "execute_result"
    }
   ],
   "source": [
    "### Inspect the data ###\n",
    "\n",
    "train = pd.read_csv(\"train.csv\")\n",
    "test = pd.read_csv(\"test.csv\")\n",
    "train.head()"
   ]
  },
  {
   "cell_type": "markdown",
   "id": "e60fe982-bc9e-4808-892e-b9e5404dec91",
   "metadata": {
    "jp-MarkdownHeadingCollapsed": true,
    "tags": []
   },
   "source": [
    "### Data Preprocessing"
   ]
  },
  {
   "cell_type": "code",
   "execution_count": 45,
   "id": "98e9fda9-8844-4767-bb95-5fefc6e4d01f",
   "metadata": {},
   "outputs": [
    {
     "name": "stdout",
     "output_type": "stream",
     "text": [
      "Before KNN imputation train \n",
      " season        0.000000\n",
      "price_AUS    32.329635\n",
      "price_CHF     0.000000\n",
      "price_CZE    32.012678\n",
      "price_GER    35.340729\n",
      "price_ESP    34.706815\n",
      "price_FRA    32.805071\n",
      "price_UK     34.865293\n",
      "price_ITA    32.805071\n",
      "price_POL    30.586371\n",
      "price_SVK    34.548336\n",
      "dtype: float64\n",
      "\n",
      " After KNN imputation train \n",
      " season       0.0\n",
      "price_AUS    0.0\n",
      "price_CHF    0.0\n",
      "price_CZE    0.0\n",
      "price_GER    0.0\n",
      "price_ESP    0.0\n",
      "price_FRA    0.0\n",
      "price_UK     0.0\n",
      "price_ITA    0.0\n",
      "price_POL    0.0\n",
      "price_SVK    0.0\n",
      "dtype: float64\n"
     ]
    },
    {
     "name": "stderr",
     "output_type": "stream",
     "text": [
      "C:\\Users\\Admin\\AppData\\Local\\Temp\\ipykernel_5080\\129278537.py:9: SettingWithCopyWarning: \n",
      "A value is trying to be set on a copy of a slice from a DataFrame.\n",
      "Try using .loc[row_indexer,col_indexer] = value instead\n",
      "\n",
      "See the caveats in the documentation: https://pandas.pydata.org/pandas-docs/stable/user_guide/indexing.html#returning-a-view-versus-a-copy\n",
      "  train_new[num_cols] = imputer.fit_transform(train_new[num_cols])\n"
     ]
    }
   ],
   "source": [
    "# Impute missing data using KNN Imputer for train set\n",
    "\n",
    "train_new = train.dropna(subset=['price_CHF'])\n",
    "\n",
    "print(\"Before KNN imputation train \\n\", train_new.isnull().sum() / len(train_new) * 100.0)\n",
    "num_cols = train_new.columns[1:]\n",
    "\n",
    "imputer = KNNImputer(n_neighbors=6)\n",
    "train_new[num_cols] = imputer.fit_transform(train_new[num_cols])\n",
    "    \n",
    "print(\"\\n After KNN imputation train \\n\", train_new.isnull().sum() / len(train_new) * 100.0)"
   ]
  },
  {
   "cell_type": "code",
   "execution_count": 46,
   "id": "eab8b7b5-64c5-4e8d-a971-a641c1711a2f",
   "metadata": {},
   "outputs": [
    {
     "name": "stdout",
     "output_type": "stream",
     "text": [
      "Before KNN imputation test \n",
      " season        0.0\n",
      "price_AUS    33.0\n",
      "price_CZE    25.0\n",
      "price_GER    31.0\n",
      "price_ESP    39.0\n",
      "price_FRA    25.0\n",
      "price_UK     24.0\n",
      "price_ITA    30.0\n",
      "price_POL    35.0\n",
      "price_SVK    34.0\n",
      "dtype: float64\n",
      "\n",
      " After KNN imputation test \n",
      " season       0.0\n",
      "price_AUS    0.0\n",
      "price_CZE    0.0\n",
      "price_GER    0.0\n",
      "price_ESP    0.0\n",
      "price_FRA    0.0\n",
      "price_UK     0.0\n",
      "price_ITA    0.0\n",
      "price_POL    0.0\n",
      "price_SVK    0.0\n",
      "dtype: float64\n"
     ]
    }
   ],
   "source": [
    "# Either drop nan rows or impute for test\n",
    "\n",
    "test_new = test.copy()\n",
    "\n",
    "print(\"Before KNN imputation test \\n\", test_new.isnull().sum() / len(test_new) * 100.0)\n",
    "num_cols = test_new.columns[1:]\n",
    "\n",
    "imputer = KNNImputer(n_neighbors=6)\n",
    "test_new[num_cols] = imputer.fit_transform(test_new[num_cols])\n",
    "    \n",
    "print(\"\\n After KNN imputation test \\n\", test_new.isnull().sum() / len(test_new) * 100.0)"
   ]
  },
  {
   "cell_type": "code",
   "execution_count": 47,
   "id": "0844de08-cea5-43fd-9688-622d6ba380ea",
   "metadata": {},
   "outputs": [
    {
     "name": "stderr",
     "output_type": "stream",
     "text": [
      "C:\\Users\\Admin\\AppData\\Local\\Temp\\ipykernel_5080\\1428641136.py:3: SettingWithCopyWarning: \n",
      "A value is trying to be set on a copy of a slice from a DataFrame.\n",
      "Try using .loc[row_indexer,col_indexer] = value instead\n",
      "\n",
      "See the caveats in the documentation: https://pandas.pydata.org/pandas-docs/stable/user_guide/indexing.html#returning-a-view-versus-a-copy\n",
      "  train_new[\"season\"] = train_new[\"season\"].astype('category')\n",
      "C:\\Users\\Admin\\AppData\\Local\\Temp\\ipykernel_5080\\1428641136.py:4: SettingWithCopyWarning: \n",
      "A value is trying to be set on a copy of a slice from a DataFrame.\n",
      "Try using .loc[row_indexer,col_indexer] = value instead\n",
      "\n",
      "See the caveats in the documentation: https://pandas.pydata.org/pandas-docs/stable/user_guide/indexing.html#returning-a-view-versus-a-copy\n",
      "  train_new[\"season\"] = train_new[\"season\"].cat.codes\n",
      "C:\\Users\\Admin\\AppData\\Local\\Temp\\ipykernel_5080\\1428641136.py:5: SettingWithCopyWarning: \n",
      "A value is trying to be set on a copy of a slice from a DataFrame.\n",
      "Try using .loc[row_indexer,col_indexer] = value instead\n",
      "\n",
      "See the caveats in the documentation: https://pandas.pydata.org/pandas-docs/stable/user_guide/indexing.html#returning-a-view-versus-a-copy\n",
      "  train_new[\"season\"] = train_new[\"season\"].astype('float')\n"
     ]
    }
   ],
   "source": [
    "# Encode categorical variable (season)\n",
    "\n",
    "train_new[\"season\"] = train_new[\"season\"].astype('category')\n",
    "train_new[\"season\"] = train_new[\"season\"].cat.codes\n",
    "train_new[\"season\"] = train_new[\"season\"].astype('float')\n",
    "\n",
    "test_new[\"season\"] = test_new[\"season\"].astype('category')\n",
    "test_new[\"season\"] = test_new[\"season\"].cat.codes\n",
    "test_new[\"season\"] = test_new[\"season\"].astype('float')"
   ]
  },
  {
   "cell_type": "code",
   "execution_count": 48,
   "id": "d4d48e8a-5181-4bb6-ab80-9167484b58b9",
   "metadata": {},
   "outputs": [
    {
     "data": {
      "image/png": "[encoded data removed]",
      "text/plain": [
       "<Figure size 800x550 with 2 Axes>"
      ]
     },
     "metadata": {},
     "output_type": "display_data"
    },
    {
     "data": {
      "text/plain": [
       "<AxesSubplot:title={'center':'Distortion Score Elbow for KMeans Clustering'}, xlabel='k', ylabel='distortion score'>"
      ]
     },
     "execution_count": 48,
     "metadata": {},
     "output_type": "execute_result"
    }
   ],
   "source": [
    "# Find optimal k\n",
    "\n",
    "from yellowbrick.cluster import KElbowVisualizer\n",
    "from sklearn.cluster import KMeans\n",
    "model = KElbowVisualizer(KMeans(), k=15)\n",
    "model.fit(train_new)\n",
    "model.show()"
   ]
  },
  {
   "cell_type": "markdown",
   "id": "fdbea89f-3e7e-4cb2-a0ef-e67cce811708",
   "metadata": {
    "tags": []
   },
   "source": [
    "## Modelling"
   ]
  },
  {
   "cell_type": "code",
   "execution_count": 49,
   "id": "08e6b702-40ce-4f15-a657-04ec1023175e",
   "metadata": {},
   "outputs": [
    {
     "name": "stdout",
     "output_type": "stream",
     "text": [
      "X train shape:  (631, 10)\n",
      "Y train shape:  (631,)\n",
      "X test shape:  (100, 10)\n"
     ]
    }
   ],
   "source": [
    "ind_cols = ['season', 'price_AUS', 'price_CZE', 'price_GER',\n",
    "       'price_ESP', 'price_FRA', 'price_UK', 'price_ITA', 'price_POL', 'price_SVK']\n",
    "dep_col = 'price_CHF'\n",
    "\n",
    "X_train = train_new[ind_cols]\n",
    "y_train = train_new[dep_col]\n",
    "X_test = test_new\n",
    "\n",
    "print(\"X train shape: \", X_train.shape)\n",
    "print(\"Y train shape: \", y_train.shape)\n",
    "print(\"X test shape: \", X_test.shape)"
   ]
  },
  {
   "cell_type": "markdown",
   "id": "97b1f390-7991-4160-b297-66c0bf6794f8",
   "metadata": {
    "tags": []
   },
   "source": [
    "### sklearn GP regressor"
   ]
  },
  {
   "cell_type": "code",
   "execution_count": null,
   "id": "cb8111e5-34fd-47c7-8416-b2551a63de3e",
   "metadata": {},
   "outputs": [],
   "source": [
    "kernel = Matern(nu=0.5, length_scale=1.0) + WhiteKernel\n",
    "\n",
    "gp_model = GaussianProcessRegressor(kernel=kernel, optimizer='fmin_l_bfgs_b', random_state=None, n_restarts_optimizer=0, normalize_y=False)\n",
    "gp_model.fit(X_train, y_train)\n",
    "\n",
    "y_pred = gp_model.predict(X_test) # I don't know why it started outputting an error here for me, works fine in main.py"
   ]
  },
  {
   "cell_type": "markdown",
   "id": "251b2923-7de5-44fe-af34-e40071407d00",
   "metadata": {},
   "source": [
    "### XGBoost"
   ]
  },
  {
   "cell_type": "code",
   "execution_count": 126,
   "id": "d9a8db75-3d79-49c5-bc70-4c8fcaa38f78",
   "metadata": {},
   "outputs": [
    {
     "name": "stdout",
     "output_type": "stream",
     "text": [
      "Fitting 5 folds for each of 12 candidates, totalling 60 fits\n",
      "Best train score:  0.9725736629960806\n"
     ]
    }
   ],
   "source": [
    "import xgboost\n",
    "from xgboost import XGBRegressor, plot_importance\n",
    "from sklearn.model_selection import GridSearchCV\n",
    "from sklearn.model_selection import train_test_split\n",
    "from sklearn.metrics import r2_score\n",
    "\n",
    "X_train_new, X_valid, y_train_new, y_valid = train_test_split(X_train, y_train, test_size = 0.20, shuffle = True)\n",
    "\n",
    "xgbr = XGBRegressor()\n",
    "\n",
    "xgb_params = {'nthread':[4], #when use hyperthread, xgboost may become slower\n",
    "              'learning_rate': [.03, 0.05, .07, .01], \n",
    "              'max_depth': [5, 6, 7],\n",
    "              'min_child_weight': [4],\n",
    "              'subsample': [0.7],\n",
    "              'colsample_bytree': [0.7]\n",
    "              }\n",
    "\n",
    "gsXGB = GridSearchCV(xgbr, xgb_params, cv = 5, scoring='r2', \n",
    "                     refit=True, n_jobs = 5, verbose=True)\n",
    "gsXGB.fit(X_train, y_train)\n",
    "\n",
    "XGB_best = gsXGB.best_estimator_\n",
    "\n",
    "print(\"Best train score: \", gsXGB.best_score_)"
   ]
  },
  {
   "cell_type": "code",
   "execution_count": 135,
   "id": "1778ce69-3b1a-40a7-a80f-15fa56505812",
   "metadata": {},
   "outputs": [
    {
     "data": {
      "text/plain": [
       "{'colsample_bytree': 0.7,\n",
       " 'learning_rate': 0.05,\n",
       " 'max_depth': 6,\n",
       " 'min_child_weight': 4,\n",
       " 'nthread': 4,\n",
       " 'subsample': 0.7}"
      ]
     },
     "execution_count": 135,
     "metadata": {},
     "output_type": "execute_result"
    }
   ],
   "source": [
    "gsXGB.best_params_"
   ]
  },
  {
   "cell_type": "code",
   "execution_count": 127,
   "id": "064d025a-7fb1-4fd2-b5a1-627df1a602f8",
   "metadata": {},
   "outputs": [
    {
     "name": "stdout",
     "output_type": "stream",
     "text": [
      "Validation set r2 score:  0.9970797742342704\n"
     ]
    }
   ],
   "source": [
    "y_valid_pred = XGB_best.predict(X_valid)\n",
    "print(\"Validation set r2 score: \", r2_score(y_valid, y_valid_pred))"
   ]
  },
  {
   "cell_type": "code",
   "execution_count": 128,
   "id": "eed1a388-43af-4fb9-ac32-786ba3ff8567",
   "metadata": {},
   "outputs": [],
   "source": [
    "y_pred = XGB_best.predict(X_test)"
   ]
  },
  {
   "cell_type": "markdown",
   "id": "c5941d77-0476-4d0b-9ece-35ff517c2436",
   "metadata": {
    "tags": []
   },
   "source": [
    "### TabNet"
   ]
  },
  {
   "cell_type": "code",
   "execution_count": 61,
   "id": "0d84c9f1-fb14-40ff-93c2-244928551ed2",
   "metadata": {},
   "outputs": [],
   "source": [
    "from sklearn.model_selection import train_test_split\n",
    "\n",
    "X_train_new, X_valid_pre, y_train_new, y_valid_pre = train_test_split(X_train, y_train, test_size = 0.20, random_state = 0)\n",
    "\n",
    "X_train_tab = X_train_new.to_numpy()\n",
    "y_train_tab = y_train_new.to_numpy().reshape(-1, 1)\n",
    "X_valid = X_valid_pre.to_numpy()\n",
    "y_valid = y_valid_pre.to_numpy().reshape(-1, 1)\n",
    "X_test_tab = X_test.to_numpy()"
   ]
  },
  {
   "cell_type": "code",
   "execution_count": 62,
   "id": "44b17aad-8d55-4e20-83d1-1e752ba25092",
   "metadata": {},
   "outputs": [],
   "source": [
    "# Define R^2 metric\n",
    "\n",
    "from pytorch_tabnet.metrics import Metric\n",
    "from sklearn.metrics import r2_score\n",
    "\n",
    "class r_squared(Metric):\n",
    "    \"\"\"\n",
    "    2xAUC.\n",
    "    \"\"\"\n",
    "\n",
    "    def __init__(self):\n",
    "        self._name = \"r_squared\"\n",
    "        self._maximize = True\n",
    "\n",
    "    def __call__(self, y_true, y_score):\n",
    "        \"\"\"\n",
    "        Compute AUC of predictions.\n",
    "\n",
    "        Parameters\n",
    "        ----------\n",
    "        y_true: np.ndarray\n",
    "            Target matrix or vector\n",
    "        y_score: np.ndarray\n",
    "            Score matrix or vector\n",
    "\n",
    "        Returns\n",
    "        -------\n",
    "            float\n",
    "            AUC of predictions vs targets.\n",
    "        \"\"\"\n",
    "        return r2_score(y_true=y_true, y_pred=y_score)"
   ]
  },
  {
   "cell_type": "code",
   "execution_count": null,
   "id": "459e9897-9391-4da7-83c8-b0faf2157e89",
   "metadata": {},
   "outputs": [],
   "source": [
    "from pytorch_tabnet.tab_model import TabNetRegressor\n",
    "from sklearn.model_selection import KFold\n",
    "import torch.optim\n",
    "\n",
    "kf = KFold(n_splits=5, random_state=42, shuffle=True)\n",
    "predictions_array =[]\n",
    "CV_score_array    =[]\n",
    "for train_index, test_index in kf.split(X_train_tab):\n",
    "    X_train, X_valid = X_train_tab[train_index], X_train_tab[test_index]\n",
    "    y_train, y_valid = y_train_tab[train_index], y_train_tab[test_index]\n",
    "    print(X_train.shape)\n",
    "    regressor = TabNetRegressor(verbose=1,seed=42, n_d=8, n_a=8, n_steps=3, gamma=1.3,\n",
    "                               optimizer_fn=torch.optim.Adam,\n",
    "                               optimizer_params=dict(lr=1e-3))\n",
    "    regressor.fit(X_train=X_train, y_train=y_train,\n",
    "              eval_set=[(X_valid, y_valid)],\n",
    "              patience=20, max_epochs=2000,\n",
    "              eval_metric=[r_squared])\n",
    "    CV_score_array.append(regressor.best_cost)\n",
    "    predictions_array.append(np.expm1(regressor.predict(X_test_tab)))\n",
    "\n",
    "predictions = np.mean(predictions_array,axis=0)"
   ]
  },
  {
   "cell_type": "code",
   "execution_count": 100,
   "id": "27369cb2-4414-41c4-82da-6cc566dd68f8",
   "metadata": {},
   "outputs": [],
   "source": [
    "import optuna\n",
    "from optuna import Trial\n",
    "\n",
    "EPOCHS = 30\n",
    "BATCH_SIZE = 32\n",
    "\n",
    "def objective(trial):\n",
    "    # parameter set by optuna\n",
    "    N_D = trial.suggest_int('N_D', 4, 32)\n",
    "    N_A = N_D\n",
    "    GAMMA = trial.suggest_float('GAMMA', 1.0, 2.0)\n",
    "    N_STEPS = trial.suggest_int('N_STEPS', 1, 3, 5)\n",
    "    LAMBDA_SPARSE = trial.suggest_loguniform(\"LAMBDA_SPARSE\", 1e-5, 1e-1)\n",
    "    \n",
    "    # changes\n",
    "    # introduced lambda-sparse\n",
    "    clf = TabNetRegressor(verbose=0,seed=42, optimizer_fn=torch.optim.Adam,\n",
    "                       optimizer_params=dict(lr=1e-3),\n",
    "                       scheduler_params={\"step_size\":4,\n",
    "                                         \"gamma\":0.9},\n",
    "                       scheduler_fn=torch.optim.lr_scheduler.StepLR,\n",
    "                       mask_type='sparsemax',\n",
    "                          n_d = N_D,\n",
    "                          n_a = N_A,\n",
    "                          gamma = GAMMA,\n",
    "                          n_steps = N_STEPS,\n",
    "                          lambda_sparse = LAMBDA_SPARSE)\n",
    "    \n",
    "    clf.fit(X_train=X_train_tab, y_train=y_train_tab,\n",
    "                  eval_set=[(X_valid, y_valid)],\n",
    "                  patience=20, max_epochs=2000,\n",
    "                  eval_metric=['r_squared'])\n",
    "    \n",
    "    score = np.max(clf.best_cost)\n",
    "    \n",
    "    return score"
   ]
  },
  {
   "cell_type": "code",
   "execution_count": 102,
   "id": "e190e281-cd22-4486-9d3b-451fb5960427",
   "metadata": {},
   "outputs": [
    {
     "name": "stderr",
     "output_type": "stream",
     "text": [
      "\u001b[32m[I 2023-03-31 01:30:50,813]\u001b[0m A new study created in memory with name: tabnet-study\u001b[0m\n",
      "\u001b[32m[I 2023-03-31 01:30:51,056]\u001b[0m Trial 0 finished with value: -7.026320428103771 and parameters: {'N_D': 26, 'GAMMA': 1.5086030298581674, 'N_STEPS': 1, 'LAMBDA_SPARSE': 0.0339694832296505}. Best is trial 0 with value: -7.026320428103771.\u001b[0m\n"
     ]
    },
    {
     "name": "stdout",
     "output_type": "stream",
     "text": [
      "\n",
      "Early stopping occurred at epoch 20 with best_epoch = 0 and best_val_0_r_squared = -7.02632\n"
     ]
    },
    {
     "name": "stderr",
     "output_type": "stream",
     "text": [
      "\u001b[32m[I 2023-03-31 01:30:51,257]\u001b[0m Trial 1 finished with value: -6.308905925863921 and parameters: {'N_D': 20, 'GAMMA': 1.6184854362162118, 'N_STEPS': 1, 'LAMBDA_SPARSE': 0.002568434911737541}. Best is trial 1 with value: -6.308905925863921.\u001b[0m\n",
      "\u001b[32m[I 2023-03-31 01:30:51,427]\u001b[0m Trial 2 finished with value: -2.417377855934055 and parameters: {'N_D': 11, 'GAMMA': 1.6235242105270593, 'N_STEPS': 1, 'LAMBDA_SPARSE': 1.775963704942348e-05}. Best is trial 2 with value: -2.417377855934055.\u001b[0m\n"
     ]
    },
    {
     "name": "stdout",
     "output_type": "stream",
     "text": [
      "\n",
      "Early stopping occurred at epoch 20 with best_epoch = 0 and best_val_0_r_squared = -6.30891\n",
      "\n",
      "Early stopping occurred at epoch 20 with best_epoch = 0 and best_val_0_r_squared = -2.41738\n"
     ]
    },
    {
     "name": "stderr",
     "output_type": "stream",
     "text": [
      "\u001b[32m[I 2023-03-31 01:30:51,594]\u001b[0m Trial 3 finished with value: -50.43960543003019 and parameters: {'N_D': 18, 'GAMMA': 1.8063214755737405, 'N_STEPS': 1, 'LAMBDA_SPARSE': 0.025229272353492167}. Best is trial 2 with value: -2.417377855934055.\u001b[0m\n",
      "\u001b[32m[I 2023-03-31 01:30:51,747]\u001b[0m Trial 4 finished with value: -2.1789964279611893 and parameters: {'N_D': 14, 'GAMMA': 1.3159576186143371, 'N_STEPS': 1, 'LAMBDA_SPARSE': 0.07176035386570576}. Best is trial 4 with value: -2.1789964279611893.\u001b[0m\n"
     ]
    },
    {
     "name": "stdout",
     "output_type": "stream",
     "text": [
      "\n",
      "Early stopping occurred at epoch 20 with best_epoch = 0 and best_val_0_r_squared = -50.43961\n",
      "\n",
      "Early stopping occurred at epoch 20 with best_epoch = 0 and best_val_0_r_squared = -2.179\n"
     ]
    },
    {
     "name": "stderr",
     "output_type": "stream",
     "text": [
      "\u001b[32m[I 2023-03-31 01:30:51,902]\u001b[0m Trial 5 finished with value: -2.7156247788349845 and parameters: {'N_D': 4, 'GAMMA': 1.3537551005565807, 'N_STEPS': 1, 'LAMBDA_SPARSE': 0.01545632971112248}. Best is trial 4 with value: -2.1789964279611893.\u001b[0m\n",
      "\u001b[32m[I 2023-03-31 01:30:52,079]\u001b[0m Trial 6 finished with value: -28.33712843923939 and parameters: {'N_D': 29, 'GAMMA': 1.0998697698079054, 'N_STEPS': 1, 'LAMBDA_SPARSE': 0.008530639354417602}. Best is trial 4 with value: -2.1789964279611893.\u001b[0m\n"
     ]
    },
    {
     "name": "stdout",
     "output_type": "stream",
     "text": [
      "\n",
      "Early stopping occurred at epoch 20 with best_epoch = 0 and best_val_0_r_squared = -2.71562\n",
      "\n",
      "Early stopping occurred at epoch 20 with best_epoch = 0 and best_val_0_r_squared = -28.33713\n"
     ]
    },
    {
     "name": "stderr",
     "output_type": "stream",
     "text": [
      "\u001b[32m[I 2023-03-31 01:30:52,236]\u001b[0m Trial 7 finished with value: -4.171597802036969 and parameters: {'N_D': 22, 'GAMMA': 1.8003309941431809, 'N_STEPS': 1, 'LAMBDA_SPARSE': 0.002521425402044293}. Best is trial 4 with value: -2.1789964279611893.\u001b[0m\n",
      "\u001b[32m[I 2023-03-31 01:30:52,407]\u001b[0m Trial 8 finished with value: -0.7770421749427046 and parameters: {'N_D': 7, 'GAMMA': 1.801614258769844, 'N_STEPS': 1, 'LAMBDA_SPARSE': 1.9140458530988796e-05}. Best is trial 8 with value: -0.7770421749427046.\u001b[0m\n"
     ]
    },
    {
     "name": "stdout",
     "output_type": "stream",
     "text": [
      "\n",
      "Early stopping occurred at epoch 20 with best_epoch = 0 and best_val_0_r_squared = -4.1716\n",
      "\n",
      "Early stopping occurred at epoch 20 with best_epoch = 0 and best_val_0_r_squared = -0.77704\n"
     ]
    },
    {
     "name": "stderr",
     "output_type": "stream",
     "text": [
      "\u001b[32m[I 2023-03-31 01:30:52,589]\u001b[0m Trial 9 finished with value: -8.670873740487677 and parameters: {'N_D': 15, 'GAMMA': 1.5649405657640947, 'N_STEPS': 1, 'LAMBDA_SPARSE': 0.021780824309268212}. Best is trial 8 with value: -0.7770421749427046.\u001b[0m\n",
      "\u001b[32m[I 2023-03-31 01:30:52,764]\u001b[0m Trial 10 finished with value: -2.7156247788349845 and parameters: {'N_D': 4, 'GAMMA': 1.945845683765512, 'N_STEPS': 1, 'LAMBDA_SPARSE': 3.927720789796357e-05}. Best is trial 8 with value: -0.7770421749427046.\u001b[0m\n"
     ]
    },
    {
     "name": "stdout",
     "output_type": "stream",
     "text": [
      "\n",
      "Early stopping occurred at epoch 20 with best_epoch = 0 and best_val_0_r_squared = -8.67087\n",
      "\n",
      "Early stopping occurred at epoch 20 with best_epoch = 0 and best_val_0_r_squared = -2.71562\n"
     ]
    },
    {
     "name": "stderr",
     "output_type": "stream",
     "text": [
      "\u001b[32m[I 2023-03-31 01:30:52,970]\u001b[0m Trial 11 finished with value: -2.299348939858315 and parameters: {'N_D': 9, 'GAMMA': 1.289635855782639, 'N_STEPS': 1, 'LAMBDA_SPARSE': 0.0002344821047426112}. Best is trial 8 with value: -0.7770421749427046.\u001b[0m\n",
      "\u001b[32m[I 2023-03-31 01:30:53,153]\u001b[0m Trial 12 finished with value: -2.058950452009353 and parameters: {'N_D': 10, 'GAMMA': 1.0072654484702364, 'N_STEPS': 1, 'LAMBDA_SPARSE': 0.08865560840809066}. Best is trial 8 with value: -0.7770421749427046.\u001b[0m\n"
     ]
    },
    {
     "name": "stdout",
     "output_type": "stream",
     "text": [
      "\n",
      "Early stopping occurred at epoch 20 with best_epoch = 0 and best_val_0_r_squared = -2.29935\n",
      "\n",
      "Early stopping occurred at epoch 20 with best_epoch = 0 and best_val_0_r_squared = -2.05895\n"
     ]
    },
    {
     "name": "stderr",
     "output_type": "stream",
     "text": [
      "\u001b[32m[I 2023-03-31 01:30:53,364]\u001b[0m Trial 13 finished with value: -9.702007486223811 and parameters: {'N_D': 8, 'GAMMA': 1.0093078272185698, 'N_STEPS': 1, 'LAMBDA_SPARSE': 0.00036805078554859707}. Best is trial 8 with value: -0.7770421749427046.\u001b[0m\n"
     ]
    },
    {
     "name": "stdout",
     "output_type": "stream",
     "text": [
      "\n",
      "Early stopping occurred at epoch 20 with best_epoch = 0 and best_val_0_r_squared = -9.70201\n"
     ]
    },
    {
     "name": "stderr",
     "output_type": "stream",
     "text": [
      "\u001b[32m[I 2023-03-31 01:30:53,588]\u001b[0m Trial 14 finished with value: -7.277253088408763 and parameters: {'N_D': 12, 'GAMMA': 1.1340540542025823, 'N_STEPS': 1, 'LAMBDA_SPARSE': 7.483732350908216e-05}. Best is trial 8 with value: -0.7770421749427046.\u001b[0m\n"
     ]
    },
    {
     "name": "stdout",
     "output_type": "stream",
     "text": [
      "\n",
      "Early stopping occurred at epoch 20 with best_epoch = 0 and best_val_0_r_squared = -7.27725\n"
     ]
    },
    {
     "name": "stderr",
     "output_type": "stream",
     "text": [
      "\u001b[32m[I 2023-03-31 01:30:53,792]\u001b[0m Trial 15 finished with value: -0.7770421749427046 and parameters: {'N_D': 7, 'GAMMA': 1.4325728926392192, 'N_STEPS': 1, 'LAMBDA_SPARSE': 1.0522455023896166e-05}. Best is trial 8 with value: -0.7770421749427046.\u001b[0m\n",
      "\u001b[32m[I 2023-03-31 01:30:53,999]\u001b[0m Trial 16 finished with value: -5.280782220653569 and parameters: {'N_D': 6, 'GAMMA': 1.4385393822401267, 'N_STEPS': 1, 'LAMBDA_SPARSE': 1.0772548180502501e-05}. Best is trial 8 with value: -0.7770421749427046.\u001b[0m\n"
     ]
    },
    {
     "name": "stdout",
     "output_type": "stream",
     "text": [
      "\n",
      "Early stopping occurred at epoch 20 with best_epoch = 0 and best_val_0_r_squared = -0.77704\n",
      "\n",
      "Early stopping occurred at epoch 20 with best_epoch = 0 and best_val_0_r_squared = -5.28078\n"
     ]
    },
    {
     "name": "stderr",
     "output_type": "stream",
     "text": [
      "\u001b[32m[I 2023-03-31 01:30:54,213]\u001b[0m Trial 17 finished with value: -5.066904048372876 and parameters: {'N_D': 16, 'GAMMA': 1.7197245107702888, 'N_STEPS': 1, 'LAMBDA_SPARSE': 3.705436093786222e-05}. Best is trial 8 with value: -0.7770421749427046.\u001b[0m\n",
      "\u001b[32m[I 2023-03-31 01:30:54,400]\u001b[0m Trial 18 finished with value: -9.702007486223811 and parameters: {'N_D': 8, 'GAMMA': 1.9340267156870163, 'N_STEPS': 1, 'LAMBDA_SPARSE': 1.4781667074457223e-05}. Best is trial 8 with value: -0.7770421749427046.\u001b[0m\n"
     ]
    },
    {
     "name": "stdout",
     "output_type": "stream",
     "text": [
      "\n",
      "Early stopping occurred at epoch 20 with best_epoch = 0 and best_val_0_r_squared = -5.0669\n",
      "\n",
      "Early stopping occurred at epoch 20 with best_epoch = 0 and best_val_0_r_squared = -9.70201\n"
     ]
    },
    {
     "name": "stderr",
     "output_type": "stream",
     "text": [
      "\u001b[32m[I 2023-03-31 01:30:54,598]\u001b[0m Trial 19 finished with value: -4.7008628847087275 and parameters: {'N_D': 32, 'GAMMA': 1.456187231364616, 'N_STEPS': 1, 'LAMBDA_SPARSE': 0.00010652796038028332}. Best is trial 8 with value: -0.7770421749427046.\u001b[0m\n"
     ]
    },
    {
     "name": "stdout",
     "output_type": "stream",
     "text": [
      "\n",
      "Early stopping occurred at epoch 20 with best_epoch = 0 and best_val_0_r_squared = -4.70086\n",
      "\n",
      "Early stopping occurred at epoch 20 with best_epoch = 0 and best_val_0_r_squared = -1.53082\n"
     ]
    },
    {
     "name": "stderr",
     "output_type": "stream",
     "text": [
      "\u001b[32m[I 2023-03-31 01:30:54,799]\u001b[0m Trial 20 finished with value: -1.5308239200528395 and parameters: {'N_D': 13, 'GAMMA': 1.7121631873744443, 'N_STEPS': 1, 'LAMBDA_SPARSE': 1.0096769024140615e-05}. Best is trial 8 with value: -0.7770421749427046.\u001b[0m\n",
      "\u001b[32m[I 2023-03-31 01:30:55,003]\u001b[0m Trial 21 finished with value: -1.5308239200528395 and parameters: {'N_D': 13, 'GAMMA': 1.7041610671091998, 'N_STEPS': 1, 'LAMBDA_SPARSE': 1.0653972443886144e-05}. Best is trial 8 with value: -0.7770421749427046.\u001b[0m\n",
      "\u001b[32m[I 2023-03-31 01:30:55,196]\u001b[0m Trial 22 finished with value: -5.280782220653569 and parameters: {'N_D': 6, 'GAMMA': 1.850251735093088, 'N_STEPS': 1, 'LAMBDA_SPARSE': 2.82758459113102e-05}. Best is trial 8 with value: -0.7770421749427046.\u001b[0m\n"
     ]
    },
    {
     "name": "stdout",
     "output_type": "stream",
     "text": [
      "\n",
      "Early stopping occurred at epoch 20 with best_epoch = 0 and best_val_0_r_squared = -1.53082\n",
      "\n",
      "Early stopping occurred at epoch 20 with best_epoch = 0 and best_val_0_r_squared = -5.28078\n"
     ]
    },
    {
     "name": "stderr",
     "output_type": "stream",
     "text": [
      "\u001b[32m[I 2023-03-31 01:30:55,347]\u001b[0m Trial 23 finished with value: -9.702007486223811 and parameters: {'N_D': 8, 'GAMMA': 1.711742581699822, 'N_STEPS': 1, 'LAMBDA_SPARSE': 2.8229334277551386e-05}. Best is trial 8 with value: -0.7770421749427046.\u001b[0m\n",
      "\u001b[32m[I 2023-03-31 01:30:55,521]\u001b[0m Trial 24 finished with value: -1.975530960707517 and parameters: {'N_D': 17, 'GAMMA': 1.8762382595885505, 'N_STEPS': 1, 'LAMBDA_SPARSE': 8.891331465269941e-05}. Best is trial 8 with value: -0.7770421749427046.\u001b[0m\n"
     ]
    },
    {
     "name": "stdout",
     "output_type": "stream",
     "text": [
      "\n",
      "Early stopping occurred at epoch 20 with best_epoch = 0 and best_val_0_r_squared = -9.70201\n",
      "\n",
      "Early stopping occurred at epoch 20 with best_epoch = 0 and best_val_0_r_squared = -1.97553\n"
     ]
    },
    {
     "name": "stderr",
     "output_type": "stream",
     "text": [
      "\u001b[32m[I 2023-03-31 01:30:55,712]\u001b[0m Trial 25 finished with value: -2.417377855934055 and parameters: {'N_D': 11, 'GAMMA': 1.6333578287495751, 'N_STEPS': 1, 'LAMBDA_SPARSE': 1.1792665743377679e-05}. Best is trial 8 with value: -0.7770421749427046.\u001b[0m\n",
      "\u001b[32m[I 2023-03-31 01:30:55,863]\u001b[0m Trial 26 finished with value: -0.7770421749427046 and parameters: {'N_D': 7, 'GAMMA': 1.977991415191545, 'N_STEPS': 1, 'LAMBDA_SPARSE': 5.2227851716649126e-05}. Best is trial 8 with value: -0.7770421749427046.\u001b[0m\n"
     ]
    },
    {
     "name": "stdout",
     "output_type": "stream",
     "text": [
      "\n",
      "Early stopping occurred at epoch 20 with best_epoch = 0 and best_val_0_r_squared = -2.41738\n",
      "\n",
      "Early stopping occurred at epoch 20 with best_epoch = 0 and best_val_0_r_squared = -0.77704\n"
     ]
    },
    {
     "name": "stderr",
     "output_type": "stream",
     "text": [
      "\u001b[32m[I 2023-03-31 01:30:56,046]\u001b[0m Trial 27 finished with value: -5.280782220653569 and parameters: {'N_D': 6, 'GAMMA': 1.9579884505057916, 'N_STEPS': 1, 'LAMBDA_SPARSE': 4.538709264976022e-05}. Best is trial 8 with value: -0.7770421749427046.\u001b[0m\n",
      "\u001b[32m[I 2023-03-31 01:30:56,233]\u001b[0m Trial 28 finished with value: -5.280782220653569 and parameters: {'N_D': 6, 'GAMMA': 1.9891711022250755, 'N_STEPS': 1, 'LAMBDA_SPARSE': 2.1208155818724227e-05}. Best is trial 8 with value: -0.7770421749427046.\u001b[0m\n"
     ]
    },
    {
     "name": "stdout",
     "output_type": "stream",
     "text": [
      "\n",
      "Early stopping occurred at epoch 20 with best_epoch = 0 and best_val_0_r_squared = -5.28078\n",
      "\n",
      "Early stopping occurred at epoch 20 with best_epoch = 0 and best_val_0_r_squared = -5.28078\n"
     ]
    },
    {
     "name": "stderr",
     "output_type": "stream",
     "text": [
      "\u001b[32m[I 2023-03-31 01:30:56,439]\u001b[0m Trial 29 finished with value: -18.067457061011503 and parameters: {'N_D': 24, 'GAMMA': 1.8828050277705122, 'N_STEPS': 1, 'LAMBDA_SPARSE': 0.00010533710763016179}. Best is trial 8 with value: -0.7770421749427046.\u001b[0m\n"
     ]
    },
    {
     "name": "stdout",
     "output_type": "stream",
     "text": [
      "\n",
      "Early stopping occurred at epoch 20 with best_epoch = 0 and best_val_0_r_squared = -18.06746\n",
      "Number of finished trials: 30\n",
      "Best trial: {'N_D': 7, 'GAMMA': 1.801614258769844, 'N_STEPS': 1, 'LAMBDA_SPARSE': 1.9140458530988796e-05}\n"
     ]
    }
   ],
   "source": [
    "study = optuna.create_study(direction='maximize', study_name = 'tabnet-study')\n",
    "\n",
    "study.optimize(objective, n_trials=30, timeout = 3600*8)\n",
    "\n",
    "print('Number of finished trials:', len(study.trials))\n",
    "print('Best trial:', study.best_trial.params)"
   ]
  },
  {
   "cell_type": "code",
   "execution_count": 103,
   "id": "4cedc02f-2033-4668-a640-d97ab20ec297",
   "metadata": {},
   "outputs": [
    {
     "data": {
      "application/vnd.plotly.v1+json": {
       "config": {
        "plotlyServerURL": "https://plot.ly"
       },
       "data": [
        {
         "mode": "markers",
         "name": "Objective Value",
         "type": "scatter",
         "x": [
          0,
          1,
          2,
          3,
          4,
          5,
          6,
          7,
          8,
          9,
          10,
          11,
          12,
          13,
          14,
          15,
          16,
          17,
          18,
          19,
          20,
          21,
          22,
          23,
          24,
          25,
          26,
          27,
          28,
          29
         ],
         "y": [
          -7.026320428103771,
          -6.308905925863921,
          -2.417377855934055,
          -50.43960543003019,
          -2.1789964279611893,
          -2.7156247788349845,
          -28.33712843923939,
          -4.171597802036969,
          -0.7770421749427046,
          -8.670873740487677,
          -2.7156247788349845,
          -2.299348939858315,
          -2.058950452009353,
          -9.702007486223811,
          -7.277253088408763,
          -0.7770421749427046,
          -5.280782220653569,
          -5.066904048372876,
          -9.702007486223811,
          -4.7008628847087275,
          -1.5308239200528395,
          -1.5308239200528395,
          -5.280782220653569,
          -9.702007486223811,
          -1.975530960707517,
          -2.417377855934055,
          -0.7770421749427046,
          -5.280782220653569,
          -5.280782220653569,
          -18.067457061011503
         ]
        },
        {
         "name": "Best Value",
         "type": "scatter",
         "x": [
          0,
          1,
          2,
          3,
          4,
          5,
          6,
          7,
          8,
          9,
          10,
          11,
          12,
          13,
          14,
          15,
          16,
          17,
          18,
          19,
          20,
          21,
          22,
          23,
          24,
          25,
          26,
          27,
          28,
          29
         ],
         "y": [
          -7.026320428103771,
          -6.308905925863921,
          -2.417377855934055,
          -2.417377855934055,
          -2.1789964279611893,
          -2.1789964279611893,
          -2.1789964279611893,
          -2.1789964279611893,
          -0.7770421749427046,
          -0.7770421749427046,
          -0.7770421749427046,
          -0.7770421749427046,
          -0.7770421749427046,
          -0.7770421749427046,
          -0.7770421749427046,
          -0.7770421749427046,
          -0.7770421749427046,
          -0.7770421749427046,
          -0.7770421749427046,
          -0.7770421749427046,
          -0.7770421749427046,
          -0.7770421749427046,
          -0.7770421749427046,
          -0.7770421749427046,
          -0.7770421749427046,
          -0.7770421749427046,
          -0.7770421749427046,
          -0.7770421749427046,
          -0.7770421749427046,
          -0.7770421749427046
         ]
        }
       ],
       "layout": {
        "autosize": true,
        "template": {
         "data": {
          "bar": [
           {
            "error_x": {
             "color": "#2a3f5f"
            },
            "error_y": {
             "color": "#2a3f5f"
            },
            "marker": {
             "line": {
              "color": "#E5ECF6",
              "width": 0.5
             },
             "pattern": {
              "fillmode": "overlay",
              "size": 10,
              "solidity": 0.2
             }
            },
            "type": "bar"
           }
          ],
          "barpolar": [
           {
            "marker": {
             "line": {
              "color": "#E5ECF6",
              "width": 0.5
             },
             "pattern": {
              "fillmode": "overlay",
              "size": 10,
              "solidity": 0.2
             }
            },
            "type": "barpolar"
           }
          ],
          "carpet": [
           {
            "aaxis": {
             "endlinecolor": "#2a3f5f",
             "gridcolor": "white",
             "linecolor": "white",
             "minorgridcolor": "white",
             "startlinecolor": "#2a3f5f"
            },
            "baxis": {
             "endlinecolor": "#2a3f5f",
             "gridcolor": "white",
             "linecolor": "white",
             "minorgridcolor": "white",
             "startlinecolor": "#2a3f5f"
            },
            "type": "carpet"
           }
          ],
          "choropleth": [
           {
            "colorbar": {
             "outlinewidth": 0,
             "ticks": ""
            },
            "type": "choropleth"
           }
          ],
          "contour": [
           {
            "colorbar": {
             "outlinewidth": 0,
             "ticks": ""
            },
            "colorscale": [
             [
              0,
              "#0d0887"
             ],
             [
              0.1111111111111111,
              "#46039f"
             ],
             [
              0.2222222222222222,
              "#7201a8"
             ],
             [
              0.3333333333333333,
              "#9c179e"
             ],
             [
              0.4444444444444444,
              "#bd3786"
             ],
             [
              0.5555555555555556,
              "#d8576b"
             ],
             [
              0.6666666666666666,
              "#ed7953"
             ],
             [
              0.7777777777777778,
              "#fb9f3a"
             ],
             [
              0.8888888888888888,
              "#fdca26"
             ],
             [
              1,
              "#f0f921"
             ]
            ],
            "type": "contour"
           }
          ],
          "contourcarpet": [
           {
            "colorbar": {
             "outlinewidth": 0,
             "ticks": ""
            },
            "type": "contourcarpet"
           }
          ],
          "heatmap": [
           {
            "colorbar": {
             "outlinewidth": 0,
             "ticks": ""
            },
            "colorscale": [
             [
              0,
              "#0d0887"
             ],
             [
              0.1111111111111111,
              "#46039f"
             ],
             [
              0.2222222222222222,
              "#7201a8"
             ],
             [
              0.3333333333333333,
              "#9c179e"
             ],
             [
              0.4444444444444444,
              "#bd3786"
             ],
             [
              0.5555555555555556,
              "#d8576b"
             ],
             [
              0.6666666666666666,
              "#ed7953"
             ],
             [
              0.7777777777777778,
              "#fb9f3a"
             ],
             [
              0.8888888888888888,
              "#fdca26"
             ],
             [
              1,
              "#f0f921"
             ]
            ],
            "type": "heatmap"
           }
          ],
          "heatmapgl": [
           {
            "colorbar": {
             "outlinewidth": 0,
             "ticks": ""
            },
            "colorscale": [
             [
              0,
              "#0d0887"
             ],
             [
              0.1111111111111111,
              "#46039f"
             ],
             [
              0.2222222222222222,
              "#7201a8"
             ],
             [
              0.3333333333333333,
              "#9c179e"
             ],
             [
              0.4444444444444444,
              "#bd3786"
             ],
             [
              0.5555555555555556,
              "#d8576b"
             ],
             [
              0.6666666666666666,
              "#ed7953"
             ],
             [
              0.7777777777777778,
              "#fb9f3a"
             ],
             [
              0.8888888888888888,
              "#fdca26"
             ],
             [
              1,
              "#f0f921"
             ]
            ],
            "type": "heatmapgl"
           }
          ],
          "histogram": [
           {
            "marker": {
             "pattern": {
              "fillmode": "overlay",
              "size": 10,
              "solidity": 0.2
             }
            },
            "type": "histogram"
           }
          ],
          "histogram2d": [
           {
            "colorbar": {
             "outlinewidth": 0,
             "ticks": ""
            },
            "colorscale": [
             [
              0,
              "#0d0887"
             ],
             [
              0.1111111111111111,
              "#46039f"
             ],
             [
              0.2222222222222222,
              "#7201a8"
             ],
             [
              0.3333333333333333,
              "#9c179e"
             ],
             [
              0.4444444444444444,
              "#bd3786"
             ],
             [
              0.5555555555555556,
              "#d8576b"
             ],
             [
              0.6666666666666666,
              "#ed7953"
             ],
             [
              0.7777777777777778,
              "#fb9f3a"
             ],
             [
              0.8888888888888888,
              "#fdca26"
             ],
             [
              1,
              "#f0f921"
             ]
            ],
            "type": "histogram2d"
           }
          ],
          "histogram2dcontour": [
           {
            "colorbar": {
             "outlinewidth": 0,
             "ticks": ""
            },
            "colorscale": [
             [
              0,
              "#0d0887"
             ],
             [
              0.1111111111111111,
              "#46039f"
             ],
             [
              0.2222222222222222,
              "#7201a8"
             ],
             [
              0.3333333333333333,
              "#9c179e"
             ],
             [
              0.4444444444444444,
              "#bd3786"
             ],
             [
              0.5555555555555556,
              "#d8576b"
             ],
             [
              0.6666666666666666,
              "#ed7953"
             ],
             [
              0.7777777777777778,
              "#fb9f3a"
             ],
             [
              0.8888888888888888,
              "#fdca26"
             ],
             [
              1,
              "#f0f921"
             ]
            ],
            "type": "histogram2dcontour"
           }
          ],
          "mesh3d": [
           {
            "colorbar": {
             "outlinewidth": 0,
             "ticks": ""
            },
            "type": "mesh3d"
           }
          ],
          "parcoords": [
           {
            "line": {
             "colorbar": {
              "outlinewidth": 0,
              "ticks": ""
             }
            },
            "type": "parcoords"
           }
          ],
          "pie": [
           {
            "automargin": true,
            "type": "pie"
           }
          ],
          "scatter": [
           {
            "fillpattern": {
             "fillmode": "overlay",
             "size": 10,
             "solidity": 0.2
            },
            "type": "scatter"
           }
          ],
          "scatter3d": [
           {
            "line": {
             "colorbar": {
              "outlinewidth": 0,
              "ticks": ""
             }
            },
            "marker": {
             "colorbar": {
              "outlinewidth": 0,
              "ticks": ""
             }
            },
            "type": "scatter3d"
           }
          ],
          "scattercarpet": [
           {
            "marker": {
             "colorbar": {
              "outlinewidth": 0,
              "ticks": ""
             }
            },
            "type": "scattercarpet"
           }
          ],
          "scattergeo": [
           {
            "marker": {
             "colorbar": {
              "outlinewidth": 0,
              "ticks": ""
             }
            },
            "type": "scattergeo"
           }
          ],
          "scattergl": [
           {
            "marker": {
             "colorbar": {
              "outlinewidth": 0,
              "ticks": ""
             }
            },
            "type": "scattergl"
           }
          ],
          "scattermapbox": [
           {
            "marker": {
             "colorbar": {
              "outlinewidth": 0,
              "ticks": ""
             }
            },
            "type": "scattermapbox"
           }
          ],
          "scatterpolar": [
           {
            "marker": {
             "colorbar": {
              "outlinewidth": 0,
              "ticks": ""
             }
            },
            "type": "scatterpolar"
           }
          ],
          "scatterpolargl": [
           {
            "marker": {
             "colorbar": {
              "outlinewidth": 0,
              "ticks": ""
             }
            },
            "type": "scatterpolargl"
           }
          ],
          "scatterternary": [
           {
            "marker": {
             "colorbar": {
              "outlinewidth": 0,
              "ticks": ""
             }
            },
            "type": "scatterternary"
           }
          ],
          "surface": [
           {
            "colorbar": {
             "outlinewidth": 0,
             "ticks": ""
            },
            "colorscale": [
             [
              0,
              "#0d0887"
             ],
             [
              0.1111111111111111,
              "#46039f"
             ],
             [
              0.2222222222222222,
              "#7201a8"
             ],
             [
              0.3333333333333333,
              "#9c179e"
             ],
             [
              0.4444444444444444,
              "#bd3786"
             ],
             [
              0.5555555555555556,
              "#d8576b"
             ],
             [
              0.6666666666666666,
              "#ed7953"
             ],
             [
              0.7777777777777778,
              "#fb9f3a"
             ],
             [
              0.8888888888888888,
              "#fdca26"
             ],
             [
              1,
              "#f0f921"
             ]
            ],
            "type": "surface"
           }
          ],
          "table": [
           {
            "cells": {
             "fill": {
              "color": "#EBF0F8"
             },
             "line": {
              "color": "white"
             }
            },
            "header": {
             "fill": {
              "color": "#C8D4E3"
             },
             "line": {
              "color": "white"
             }
            },
            "type": "table"
           }
          ]
         },
         "layout": {
          "annotationdefaults": {
           "arrowcolor": "#2a3f5f",
           "arrowhead": 0,
           "arrowwidth": 1
          },
          "autotypenumbers": "strict",
          "coloraxis": {
           "colorbar": {
            "outlinewidth": 0,
            "ticks": ""
           }
          },
          "colorscale": {
           "diverging": [
            [
             0,
             "#8e0152"
            ],
            [
             0.1,
             "#c51b7d"
            ],
            [
             0.2,
             "#de77ae"
            ],
            [
             0.3,
             "#f1b6da"
            ],
            [
             0.4,
             "#fde0ef"
            ],
            [
             0.5,
             "#f7f7f7"
            ],
            [
             0.6,
             "#e6f5d0"
            ],
            [
             0.7,
             "#b8e186"
            ],
            [
             0.8,
             "#7fbc41"
            ],
            [
             0.9,
             "#4d9221"
            ],
            [
             1,
             "#276419"
            ]
           ],
           "sequential": [
            [
             0,
             "#0d0887"
            ],
            [
             0.1111111111111111,
             "#46039f"
            ],
            [
             0.2222222222222222,
             "#7201a8"
            ],
            [
             0.3333333333333333,
             "#9c179e"
            ],
            [
             0.4444444444444444,
             "#bd3786"
            ],
            [
             0.5555555555555556,
             "#d8576b"
            ],
            [
             0.6666666666666666,
             "#ed7953"
            ],
            [
             0.7777777777777778,
             "#fb9f3a"
            ],
            [
             0.8888888888888888,
             "#fdca26"
            ],
            [
             1,
             "#f0f921"
            ]
           ],
           "sequentialminus": [
            [
             0,
             "#0d0887"
            ],
            [
             0.1111111111111111,
             "#46039f"
            ],
            [
             0.2222222222222222,
             "#7201a8"
            ],
            [
             0.3333333333333333,
             "#9c179e"
            ],
            [
             0.4444444444444444,
             "#bd3786"
            ],
            [
             0.5555555555555556,
             "#d8576b"
            ],
            [
             0.6666666666666666,
             "#ed7953"
            ],
            [
             0.7777777777777778,
             "#fb9f3a"
            ],
            [
             0.8888888888888888,
             "#fdca26"
            ],
            [
             1,
             "#f0f921"
            ]
           ]
          },
          "colorway": [
           "#636efa",
           "#EF553B",
           "#00cc96",
           "#ab63fa",
           "#FFA15A",
           "#19d3f3",
           "#FF6692",
           "#B6E880",
           "#FF97FF",
           "#FECB52"
          ],
          "font": {
           "color": "#2a3f5f"
          },
          "geo": {
           "bgcolor": "white",
           "lakecolor": "white",
           "landcolor": "#E5ECF6",
           "showlakes": true,
           "showland": true,
           "subunitcolor": "white"
          },
          "hoverlabel": {
           "align": "left"
          },
          "hovermode": "closest",
          "mapbox": {
           "style": "light"
          },
          "paper_bgcolor": "white",
          "plot_bgcolor": "#E5ECF6",
          "polar": {
           "angularaxis": {
            "gridcolor": "white",
            "linecolor": "white",
            "ticks": ""
           },
           "bgcolor": "#E5ECF6",
           "radialaxis": {
            "gridcolor": "white",
            "linecolor": "white",
            "ticks": ""
           }
          },
          "scene": {
           "xaxis": {
            "backgroundcolor": "#E5ECF6",
            "gridcolor": "white",
            "gridwidth": 2,
            "linecolor": "white",
            "showbackground": true,
            "ticks": "",
            "zerolinecolor": "white"
           },
           "yaxis": {
            "backgroundcolor": "#E5ECF6",
            "gridcolor": "white",
            "gridwidth": 2,
            "linecolor": "white",
            "showbackground": true,
            "ticks": "",
            "zerolinecolor": "white"
           },
           "zaxis": {
            "backgroundcolor": "#E5ECF6",
            "gridcolor": "white",
            "gridwidth": 2,
            "linecolor": "white",
            "showbackground": true,
            "ticks": "",
            "zerolinecolor": "white"
           }
          },
          "shapedefaults": {
           "line": {
            "color": "#2a3f5f"
           }
          },
          "ternary": {
           "aaxis": {
            "gridcolor": "white",
            "linecolor": "white",
            "ticks": ""
           },
           "baxis": {
            "gridcolor": "white",
            "linecolor": "white",
            "ticks": ""
           },
           "bgcolor": "#E5ECF6",
           "caxis": {
            "gridcolor": "white",
            "linecolor": "white",
            "ticks": ""
           }
          },
          "title": {
           "x": 0.05
          },
          "xaxis": {
           "automargin": true,
           "gridcolor": "white",
           "linecolor": "white",
           "ticks": "",
           "title": {
            "standoff": 15
           },
           "zerolinecolor": "white",
           "zerolinewidth": 2
          },
          "yaxis": {
           "automargin": true,
           "gridcolor": "white",
           "linecolor": "white",
           "ticks": "",
           "title": {
            "standoff": 15
           },
           "zerolinecolor": "white",
           "zerolinewidth": 2
          }
         }
        },
        "title": {
         "text": "Optimization History Plot"
        },
        "xaxis": {
         "autorange": true,
         "range": [
          -1.7725450901803608,
          30.772545090180362
         ],
         "title": {
          "text": "Trial"
         },
         "type": "linear"
        },
        "yaxis": {
         "autorange": true,
         "range": [
          -54.53797230059566,
          3.321324695622767
         ],
         "title": {
          "text": "Objective Value"
         },
         "type": "linear"
        }
       }
      },
      "image/png": "[encoded data removed]",
      "text/html": [
       "<div>                            <div id=\"f0f91500-368a-4f8f-b305-c13472f78947\" class=\"plotly-graph-div\" style=\"height:525px; width:100%;\"></div>            <script type=\"text/javascript\">                require([\"plotly\"], function(Plotly) {                    window.PLOTLYENV=window.PLOTLYENV || {};                                    if (document.getElementById(\"f0f91500-368a-4f8f-b305-c13472f78947\")) {                    Plotly.newPlot(                        \"f0f91500-368a-4f8f-b305-c13472f78947\",                        [{\"mode\":\"markers\",\"name\":\"Objective Value\",\"x\":[0,1,2,3,4,5,6,7,8,9,10,11,12,13,14,15,16,17,18,19,20,21,22,23,24,25,26,27,28,29],\"y\":[-7.026320428103771,-6.308905925863921,-2.417377855934055,-50.43960543003019,-2.1789964279611893,-2.7156247788349845,-28.33712843923939,-4.171597802036969,-0.7770421749427046,-8.670873740487677,-2.7156247788349845,-2.299348939858315,-2.058950452009353,-9.702007486223811,-7.277253088408763,-0.7770421749427046,-5.280782220653569,-5.066904048372876,-9.702007486223811,-4.7008628847087275,-1.5308239200528395,-1.5308239200528395,-5.280782220653569,-9.702007486223811,-1.975530960707517,-2.417377855934055,-0.7770421749427046,-5.280782220653569,-5.280782220653569,-18.067457061011503],\"type\":\"scatter\"},{\"name\":\"Best Value\",\"x\":[0,1,2,3,4,5,6,7,8,9,10,11,12,13,14,15,16,17,18,19,20,21,22,23,24,25,26,27,28,29],\"y\":[-7.026320428103771,-6.308905925863921,-2.417377855934055,-2.417377855934055,-2.1789964279611893,-2.1789964279611893,-2.1789964279611893,-2.1789964279611893,-0.7770421749427046,-0.7770421749427046,-0.7770421749427046,-0.7770421749427046,-0.7770421749427046,-0.7770421749427046,-0.7770421749427046,-0.7770421749427046,-0.7770421749427046,-0.7770421749427046,-0.7770421749427046,-0.7770421749427046,-0.7770421749427046,-0.7770421749427046,-0.7770421749427046,-0.7770421749427046,-0.7770421749427046,-0.7770421749427046,-0.7770421749427046,-0.7770421749427046,-0.7770421749427046,-0.7770421749427046],\"type\":\"scatter\"}],                        {\"title\":{\"text\":\"Optimization History Plot\"},\"xaxis\":{\"title\":{\"text\":\"Trial\"}},\"yaxis\":{\"title\":{\"text\":\"Objective Value\"}},\"template\":{\"data\":{\"histogram2dcontour\":[{\"type\":\"histogram2dcontour\",\"colorbar\":{\"outlinewidth\":0,\"ticks\":\"\"},\"colorscale\":[[0.0,\"#0d0887\"],[0.1111111111111111,\"#46039f\"],[0.2222222222222222,\"#7201a8\"],[0.3333333333333333,\"#9c179e\"],[0.4444444444444444,\"#bd3786\"],[0.5555555555555556,\"#d8576b\"],[0.6666666666666666,\"#ed7953\"],[0.7777777777777778,\"#fb9f3a\"],[0.8888888888888888,\"#fdca26\"],[1.0,\"#f0f921\"]]}],\"choropleth\":[{\"type\":\"choropleth\",\"colorbar\":{\"outlinewidth\":0,\"ticks\":\"\"}}],\"histogram2d\":[{\"type\":\"histogram2d\",\"colorbar\":{\"outlinewidth\":0,\"ticks\":\"\"},\"colorscale\":[[0.0,\"#0d0887\"],[0.1111111111111111,\"#46039f\"],[0.2222222222222222,\"#7201a8\"],[0.3333333333333333,\"#9c179e\"],[0.4444444444444444,\"#bd3786\"],[0.5555555555555556,\"#d8576b\"],[0.6666666666666666,\"#ed7953\"],[0.7777777777777778,\"#fb9f3a\"],[0.8888888888888888,\"#fdca26\"],[1.0,\"#f0f921\"]]}],\"heatmap\":[{\"type\":\"heatmap\",\"colorbar\":{\"outlinewidth\":0,\"ticks\":\"\"},\"colorscale\":[[0.0,\"#0d0887\"],[0.1111111111111111,\"#46039f\"],[0.2222222222222222,\"#7201a8\"],[0.3333333333333333,\"#9c179e\"],[0.4444444444444444,\"#bd3786\"],[0.5555555555555556,\"#d8576b\"],[0.6666666666666666,\"#ed7953\"],[0.7777777777777778,\"#fb9f3a\"],[0.8888888888888888,\"#fdca26\"],[1.0,\"#f0f921\"]]}],\"heatmapgl\":[{\"type\":\"heatmapgl\",\"colorbar\":{\"outlinewidth\":0,\"ticks\":\"\"},\"colorscale\":[[0.0,\"#0d0887\"],[0.1111111111111111,\"#46039f\"],[0.2222222222222222,\"#7201a8\"],[0.3333333333333333,\"#9c179e\"],[0.4444444444444444,\"#bd3786\"],[0.5555555555555556,\"#d8576b\"],[0.6666666666666666,\"#ed7953\"],[0.7777777777777778,\"#fb9f3a\"],[0.8888888888888888,\"#fdca26\"],[1.0,\"#f0f921\"]]}],\"contourcarpet\":[{\"type\":\"contourcarpet\",\"colorbar\":{\"outlinewidth\":0,\"ticks\":\"\"}}],\"contour\":[{\"type\":\"contour\",\"colorbar\":{\"outlinewidth\":0,\"ticks\":\"\"},\"colorscale\":[[0.0,\"#0d0887\"],[0.1111111111111111,\"#46039f\"],[0.2222222222222222,\"#7201a8\"],[0.3333333333333333,\"#9c179e\"],[0.4444444444444444,\"#bd3786\"],[0.5555555555555556,\"#d8576b\"],[0.6666666666666666,\"#ed7953\"],[0.7777777777777778,\"#fb9f3a\"],[0.8888888888888888,\"#fdca26\"],[1.0,\"#f0f921\"]]}],\"surface\":[{\"type\":\"surface\",\"colorbar\":{\"outlinewidth\":0,\"ticks\":\"\"},\"colorscale\":[[0.0,\"#0d0887\"],[0.1111111111111111,\"#46039f\"],[0.2222222222222222,\"#7201a8\"],[0.3333333333333333,\"#9c179e\"],[0.4444444444444444,\"#bd3786\"],[0.5555555555555556,\"#d8576b\"],[0.6666666666666666,\"#ed7953\"],[0.7777777777777778,\"#fb9f3a\"],[0.8888888888888888,\"#fdca26\"],[1.0,\"#f0f921\"]]}],\"mesh3d\":[{\"type\":\"mesh3d\",\"colorbar\":{\"outlinewidth\":0,\"ticks\":\"\"}}],\"scatter\":[{\"fillpattern\":{\"fillmode\":\"overlay\",\"size\":10,\"solidity\":0.2},\"type\":\"scatter\"}],\"parcoords\":[{\"type\":\"parcoords\",\"line\":{\"colorbar\":{\"outlinewidth\":0,\"ticks\":\"\"}}}],\"scatterpolargl\":[{\"type\":\"scatterpolargl\",\"marker\":{\"colorbar\":{\"outlinewidth\":0,\"ticks\":\"\"}}}],\"bar\":[{\"error_x\":{\"color\":\"#2a3f5f\"},\"error_y\":{\"color\":\"#2a3f5f\"},\"marker\":{\"line\":{\"color\":\"#E5ECF6\",\"width\":0.5},\"pattern\":{\"fillmode\":\"overlay\",\"size\":10,\"solidity\":0.2}},\"type\":\"bar\"}],\"scattergeo\":[{\"type\":\"scattergeo\",\"marker\":{\"colorbar\":{\"outlinewidth\":0,\"ticks\":\"\"}}}],\"scatterpolar\":[{\"type\":\"scatterpolar\",\"marker\":{\"colorbar\":{\"outlinewidth\":0,\"ticks\":\"\"}}}],\"histogram\":[{\"marker\":{\"pattern\":{\"fillmode\":\"overlay\",\"size\":10,\"solidity\":0.2}},\"type\":\"histogram\"}],\"scattergl\":[{\"type\":\"scattergl\",\"marker\":{\"colorbar\":{\"outlinewidth\":0,\"ticks\":\"\"}}}],\"scatter3d\":[{\"type\":\"scatter3d\",\"line\":{\"colorbar\":{\"outlinewidth\":0,\"ticks\":\"\"}},\"marker\":{\"colorbar\":{\"outlinewidth\":0,\"ticks\":\"\"}}}],\"scattermapbox\":[{\"type\":\"scattermapbox\",\"marker\":{\"colorbar\":{\"outlinewidth\":0,\"ticks\":\"\"}}}],\"scatterternary\":[{\"type\":\"scatterternary\",\"marker\":{\"colorbar\":{\"outlinewidth\":0,\"ticks\":\"\"}}}],\"scattercarpet\":[{\"type\":\"scattercarpet\",\"marker\":{\"colorbar\":{\"outlinewidth\":0,\"ticks\":\"\"}}}],\"carpet\":[{\"aaxis\":{\"endlinecolor\":\"#2a3f5f\",\"gridcolor\":\"white\",\"linecolor\":\"white\",\"minorgridcolor\":\"white\",\"startlinecolor\":\"#2a3f5f\"},\"baxis\":{\"endlinecolor\":\"#2a3f5f\",\"gridcolor\":\"white\",\"linecolor\":\"white\",\"minorgridcolor\":\"white\",\"startlinecolor\":\"#2a3f5f\"},\"type\":\"carpet\"}],\"table\":[{\"cells\":{\"fill\":{\"color\":\"#EBF0F8\"},\"line\":{\"color\":\"white\"}},\"header\":{\"fill\":{\"color\":\"#C8D4E3\"},\"line\":{\"color\":\"white\"}},\"type\":\"table\"}],\"barpolar\":[{\"marker\":{\"line\":{\"color\":\"#E5ECF6\",\"width\":0.5},\"pattern\":{\"fillmode\":\"overlay\",\"size\":10,\"solidity\":0.2}},\"type\":\"barpolar\"}],\"pie\":[{\"automargin\":true,\"type\":\"pie\"}]},\"layout\":{\"autotypenumbers\":\"strict\",\"colorway\":[\"#636efa\",\"#EF553B\",\"#00cc96\",\"#ab63fa\",\"#FFA15A\",\"#19d3f3\",\"#FF6692\",\"#B6E880\",\"#FF97FF\",\"#FECB52\"],\"font\":{\"color\":\"#2a3f5f\"},\"hovermode\":\"closest\",\"hoverlabel\":{\"align\":\"left\"},\"paper_bgcolor\":\"white\",\"plot_bgcolor\":\"#E5ECF6\",\"polar\":{\"bgcolor\":\"#E5ECF6\",\"angularaxis\":{\"gridcolor\":\"white\",\"linecolor\":\"white\",\"ticks\":\"\"},\"radialaxis\":{\"gridcolor\":\"white\",\"linecolor\":\"white\",\"ticks\":\"\"}},\"ternary\":{\"bgcolor\":\"#E5ECF6\",\"aaxis\":{\"gridcolor\":\"white\",\"linecolor\":\"white\",\"ticks\":\"\"},\"baxis\":{\"gridcolor\":\"white\",\"linecolor\":\"white\",\"ticks\":\"\"},\"caxis\":{\"gridcolor\":\"white\",\"linecolor\":\"white\",\"ticks\":\"\"}},\"coloraxis\":{\"colorbar\":{\"outlinewidth\":0,\"ticks\":\"\"}},\"colorscale\":{\"sequential\":[[0.0,\"#0d0887\"],[0.1111111111111111,\"#46039f\"],[0.2222222222222222,\"#7201a8\"],[0.3333333333333333,\"#9c179e\"],[0.4444444444444444,\"#bd3786\"],[0.5555555555555556,\"#d8576b\"],[0.6666666666666666,\"#ed7953\"],[0.7777777777777778,\"#fb9f3a\"],[0.8888888888888888,\"#fdca26\"],[1.0,\"#f0f921\"]],\"sequentialminus\":[[0.0,\"#0d0887\"],[0.1111111111111111,\"#46039f\"],[0.2222222222222222,\"#7201a8\"],[0.3333333333333333,\"#9c179e\"],[0.4444444444444444,\"#bd3786\"],[0.5555555555555556,\"#d8576b\"],[0.6666666666666666,\"#ed7953\"],[0.7777777777777778,\"#fb9f3a\"],[0.8888888888888888,\"#fdca26\"],[1.0,\"#f0f921\"]],\"diverging\":[[0,\"#8e0152\"],[0.1,\"#c51b7d\"],[0.2,\"#de77ae\"],[0.3,\"#f1b6da\"],[0.4,\"#fde0ef\"],[0.5,\"#f7f7f7\"],[0.6,\"#e6f5d0\"],[0.7,\"#b8e186\"],[0.8,\"#7fbc41\"],[0.9,\"#4d9221\"],[1,\"#276419\"]]},\"xaxis\":{\"gridcolor\":\"white\",\"linecolor\":\"white\",\"ticks\":\"\",\"title\":{\"standoff\":15},\"zerolinecolor\":\"white\",\"automargin\":true,\"zerolinewidth\":2},\"yaxis\":{\"gridcolor\":\"white\",\"linecolor\":\"white\",\"ticks\":\"\",\"title\":{\"standoff\":15},\"zerolinecolor\":\"white\",\"automargin\":true,\"zerolinewidth\":2},\"scene\":{\"xaxis\":{\"backgroundcolor\":\"#E5ECF6\",\"gridcolor\":\"white\",\"linecolor\":\"white\",\"showbackground\":true,\"ticks\":\"\",\"zerolinecolor\":\"white\",\"gridwidth\":2},\"yaxis\":{\"backgroundcolor\":\"#E5ECF6\",\"gridcolor\":\"white\",\"linecolor\":\"white\",\"showbackground\":true,\"ticks\":\"\",\"zerolinecolor\":\"white\",\"gridwidth\":2},\"zaxis\":{\"backgroundcolor\":\"#E5ECF6\",\"gridcolor\":\"white\",\"linecolor\":\"white\",\"showbackground\":true,\"ticks\":\"\",\"zerolinecolor\":\"white\",\"gridwidth\":2}},\"shapedefaults\":{\"line\":{\"color\":\"#2a3f5f\"}},\"annotationdefaults\":{\"arrowcolor\":\"#2a3f5f\",\"arrowhead\":0,\"arrowwidth\":1},\"geo\":{\"bgcolor\":\"white\",\"landcolor\":\"#E5ECF6\",\"subunitcolor\":\"white\",\"showland\":true,\"showlakes\":true,\"lakecolor\":\"white\"},\"title\":{\"x\":0.05},\"mapbox\":{\"style\":\"light\"}}}},                        {\"responsive\": true}                    ).then(function(){\n",
       "                            \n",
       "var gd = document.getElementById('f0f91500-368a-4f8f-b305-c13472f78947');\n",
       "var x = new MutationObserver(function (mutations, observer) {{\n",
       "        var display = window.getComputedStyle(gd).display;\n",
       "        if (!display || display === 'none') {{\n",
       "            console.log([gd, 'removed!']);\n",
       "            Plotly.purge(gd);\n",
       "            observer.disconnect();\n",
       "        }}\n",
       "}});\n",
       "\n",
       "// Listen for the removal of the full notebook cells\n",
       "var notebookContainer = gd.closest('#notebook-container');\n",
       "if (notebookContainer) {{\n",
       "    x.observe(notebookContainer, {childList: true});\n",
       "}}\n",
       "\n",
       "// Listen for the clearing of the current output cell\n",
       "var outputEl = gd.closest('.output');\n",
       "if (outputEl) {{\n",
       "    x.observe(outputEl, {childList: true});\n",
       "}}\n",
       "\n",
       "                        })                };                });            </script>        </div>"
      ]
     },
     "metadata": {},
     "output_type": "display_data"
    }
   ],
   "source": [
    "from optuna.visualization import plot_optimization_history\n",
    "\n",
    "plot_optimization_history(study)"
   ]
  },
  {
   "cell_type": "code",
   "execution_count": 104,
   "id": "64529ddb-2ea7-4755-8cb5-b3dda5b9cf90",
   "metadata": {},
   "outputs": [
    {
     "data": {
      "application/vnd.plotly.v1+json": {
       "config": {
        "plotlyServerURL": "https://plot.ly"
       },
       "data": [
        {
         "cliponaxis": false,
         "hovertemplate": [
          "N_STEPS (IntDistribution): 0.0<extra></extra>",
          "LAMBDA_SPARSE (FloatDistribution): 0.16823525642362874<extra></extra>",
          "GAMMA (FloatDistribution): 0.21418792494461217<extra></extra>",
          "N_D (IntDistribution): 0.6175768186317592<extra></extra>"
         ],
         "marker": {
          "color": "rgb(66,146,198)"
         },
         "orientation": "h",
         "text": [
          "<0.01",
          "0.17",
          "0.21",
          "0.62"
         ],
         "textposition": "outside",
         "type": "bar",
         "x": [
          0,
          0.16823525642362874,
          0.21418792494461217,
          0.6175768186317592
         ],
         "y": [
          "N_STEPS",
          "LAMBDA_SPARSE",
          "GAMMA",
          "N_D"
         ]
        }
       ],
       "layout": {
        "autosize": true,
        "showlegend": false,
        "template": {
         "data": {
          "bar": [
           {
            "error_x": {
             "color": "#2a3f5f"
            },
            "error_y": {
             "color": "#2a3f5f"
            },
            "marker": {
             "line": {
              "color": "#E5ECF6",
              "width": 0.5
             },
             "pattern": {
              "fillmode": "overlay",
              "size": 10,
              "solidity": 0.2
             }
            },
            "type": "bar"
           }
          ],
          "barpolar": [
           {
            "marker": {
             "line": {
              "color": "#E5ECF6",
              "width": 0.5
             },
             "pattern": {
              "fillmode": "overlay",
              "size": 10,
              "solidity": 0.2
             }
            },
            "type": "barpolar"
           }
          ],
          "carpet": [
           {
            "aaxis": {
             "endlinecolor": "#2a3f5f",
             "gridcolor": "white",
             "linecolor": "white",
             "minorgridcolor": "white",
             "startlinecolor": "#2a3f5f"
            },
            "baxis": {
             "endlinecolor": "#2a3f5f",
             "gridcolor": "white",
             "linecolor": "white",
             "minorgridcolor": "white",
             "startlinecolor": "#2a3f5f"
            },
            "type": "carpet"
           }
          ],
          "choropleth": [
           {
            "colorbar": {
             "outlinewidth": 0,
             "ticks": ""
            },
            "type": "choropleth"
           }
          ],
          "contour": [
           {
            "colorbar": {
             "outlinewidth": 0,
             "ticks": ""
            },
            "colorscale": [
             [
              0,
              "#0d0887"
             ],
             [
              0.1111111111111111,
              "#46039f"
             ],
             [
              0.2222222222222222,
              "#7201a8"
             ],
             [
              0.3333333333333333,
              "#9c179e"
             ],
             [
              0.4444444444444444,
              "#bd3786"
             ],
             [
              0.5555555555555556,
              "#d8576b"
             ],
             [
              0.6666666666666666,
              "#ed7953"
             ],
             [
              0.7777777777777778,
              "#fb9f3a"
             ],
             [
              0.8888888888888888,
              "#fdca26"
             ],
             [
              1,
              "#f0f921"
             ]
            ],
            "type": "contour"
           }
          ],
          "contourcarpet": [
           {
            "colorbar": {
             "outlinewidth": 0,
             "ticks": ""
            },
            "type": "contourcarpet"
           }
          ],
          "heatmap": [
           {
            "colorbar": {
             "outlinewidth": 0,
             "ticks": ""
            },
            "colorscale": [
             [
              0,
              "#0d0887"
             ],
             [
              0.1111111111111111,
              "#46039f"
             ],
             [
              0.2222222222222222,
              "#7201a8"
             ],
             [
              0.3333333333333333,
              "#9c179e"
             ],
             [
              0.4444444444444444,
              "#bd3786"
             ],
             [
              0.5555555555555556,
              "#d8576b"
             ],
             [
              0.6666666666666666,
              "#ed7953"
             ],
             [
              0.7777777777777778,
              "#fb9f3a"
             ],
             [
              0.8888888888888888,
              "#fdca26"
             ],
             [
              1,
              "#f0f921"
             ]
            ],
            "type": "heatmap"
           }
          ],
          "heatmapgl": [
           {
            "colorbar": {
             "outlinewidth": 0,
             "ticks": ""
            },
            "colorscale": [
             [
              0,
              "#0d0887"
             ],
             [
              0.1111111111111111,
              "#46039f"
             ],
             [
              0.2222222222222222,
              "#7201a8"
             ],
             [
              0.3333333333333333,
              "#9c179e"
             ],
             [
              0.4444444444444444,
              "#bd3786"
             ],
             [
              0.5555555555555556,
              "#d8576b"
             ],
             [
              0.6666666666666666,
              "#ed7953"
             ],
             [
              0.7777777777777778,
              "#fb9f3a"
             ],
             [
              0.8888888888888888,
              "#fdca26"
             ],
             [
              1,
              "#f0f921"
             ]
            ],
            "type": "heatmapgl"
           }
          ],
          "histogram": [
           {
            "marker": {
             "pattern": {
              "fillmode": "overlay",
              "size": 10,
              "solidity": 0.2
             }
            },
            "type": "histogram"
           }
          ],
          "histogram2d": [
           {
            "colorbar": {
             "outlinewidth": 0,
             "ticks": ""
            },
            "colorscale": [
             [
              0,
              "#0d0887"
             ],
             [
              0.1111111111111111,
              "#46039f"
             ],
             [
              0.2222222222222222,
              "#7201a8"
             ],
             [
              0.3333333333333333,
              "#9c179e"
             ],
             [
              0.4444444444444444,
              "#bd3786"
             ],
             [
              0.5555555555555556,
              "#d8576b"
             ],
             [
              0.6666666666666666,
              "#ed7953"
             ],
             [
              0.7777777777777778,
              "#fb9f3a"
             ],
             [
              0.8888888888888888,
              "#fdca26"
             ],
             [
              1,
              "#f0f921"
             ]
            ],
            "type": "histogram2d"
           }
          ],
          "histogram2dcontour": [
           {
            "colorbar": {
             "outlinewidth": 0,
             "ticks": ""
            },
            "colorscale": [
             [
              0,
              "#0d0887"
             ],
             [
              0.1111111111111111,
              "#46039f"
             ],
             [
              0.2222222222222222,
              "#7201a8"
             ],
             [
              0.3333333333333333,
              "#9c179e"
             ],
             [
              0.4444444444444444,
              "#bd3786"
             ],
             [
              0.5555555555555556,
              "#d8576b"
             ],
             [
              0.6666666666666666,
              "#ed7953"
             ],
             [
              0.7777777777777778,
              "#fb9f3a"
             ],
             [
              0.8888888888888888,
              "#fdca26"
             ],
             [
              1,
              "#f0f921"
             ]
            ],
            "type": "histogram2dcontour"
           }
          ],
          "mesh3d": [
           {
            "colorbar": {
             "outlinewidth": 0,
             "ticks": ""
            },
            "type": "mesh3d"
           }
          ],
          "parcoords": [
           {
            "line": {
             "colorbar": {
              "outlinewidth": 0,
              "ticks": ""
             }
            },
            "type": "parcoords"
           }
          ],
          "pie": [
           {
            "automargin": true,
            "type": "pie"
           }
          ],
          "scatter": [
           {
            "fillpattern": {
             "fillmode": "overlay",
             "size": 10,
             "solidity": 0.2
            },
            "type": "scatter"
           }
          ],
          "scatter3d": [
           {
            "line": {
             "colorbar": {
              "outlinewidth": 0,
              "ticks": ""
             }
            },
            "marker": {
             "colorbar": {
              "outlinewidth": 0,
              "ticks": ""
             }
            },
            "type": "scatter3d"
           }
          ],
          "scattercarpet": [
           {
            "marker": {
             "colorbar": {
              "outlinewidth": 0,
              "ticks": ""
             }
            },
            "type": "scattercarpet"
           }
          ],
          "scattergeo": [
           {
            "marker": {
             "colorbar": {
              "outlinewidth": 0,
              "ticks": ""
             }
            },
            "type": "scattergeo"
           }
          ],
          "scattergl": [
           {
            "marker": {
             "colorbar": {
              "outlinewidth": 0,
              "ticks": ""
             }
            },
            "type": "scattergl"
           }
          ],
          "scattermapbox": [
           {
            "marker": {
             "colorbar": {
              "outlinewidth": 0,
              "ticks": ""
             }
            },
            "type": "scattermapbox"
           }
          ],
          "scatterpolar": [
           {
            "marker": {
             "colorbar": {
              "outlinewidth": 0,
              "ticks": ""
             }
            },
            "type": "scatterpolar"
           }
          ],
          "scatterpolargl": [
           {
            "marker": {
             "colorbar": {
              "outlinewidth": 0,
              "ticks": ""
             }
            },
            "type": "scatterpolargl"
           }
          ],
          "scatterternary": [
           {
            "marker": {
             "colorbar": {
              "outlinewidth": 0,
              "ticks": ""
             }
            },
            "type": "scatterternary"
           }
          ],
          "surface": [
           {
            "colorbar": {
             "outlinewidth": 0,
             "ticks": ""
            },
            "colorscale": [
             [
              0,
              "#0d0887"
             ],
             [
              0.1111111111111111,
              "#46039f"
             ],
             [
              0.2222222222222222,
              "#7201a8"
             ],
             [
              0.3333333333333333,
              "#9c179e"
             ],
             [
              0.4444444444444444,
              "#bd3786"
             ],
             [
              0.5555555555555556,
              "#d8576b"
             ],
             [
              0.6666666666666666,
              "#ed7953"
             ],
             [
              0.7777777777777778,
              "#fb9f3a"
             ],
             [
              0.8888888888888888,
              "#fdca26"
             ],
             [
              1,
              "#f0f921"
             ]
            ],
            "type": "surface"
           }
          ],
          "table": [
           {
            "cells": {
             "fill": {
              "color": "#EBF0F8"
             },
             "line": {
              "color": "white"
             }
            },
            "header": {
             "fill": {
              "color": "#C8D4E3"
             },
             "line": {
              "color": "white"
             }
            },
            "type": "table"
           }
          ]
         },
         "layout": {
          "annotationdefaults": {
           "arrowcolor": "#2a3f5f",
           "arrowhead": 0,
           "arrowwidth": 1
          },
          "autotypenumbers": "strict",
          "coloraxis": {
           "colorbar": {
            "outlinewidth": 0,
            "ticks": ""
           }
          },
          "colorscale": {
           "diverging": [
            [
             0,
             "#8e0152"
            ],
            [
             0.1,
             "#c51b7d"
            ],
            [
             0.2,
             "#de77ae"
            ],
            [
             0.3,
             "#f1b6da"
            ],
            [
             0.4,
             "#fde0ef"
            ],
            [
             0.5,
             "#f7f7f7"
            ],
            [
             0.6,
             "#e6f5d0"
            ],
            [
             0.7,
             "#b8e186"
            ],
            [
             0.8,
             "#7fbc41"
            ],
            [
             0.9,
             "#4d9221"
            ],
            [
             1,
             "#276419"
            ]
           ],
           "sequential": [
            [
             0,
             "#0d0887"
            ],
            [
             0.1111111111111111,
             "#46039f"
            ],
            [
             0.2222222222222222,
             "#7201a8"
            ],
            [
             0.3333333333333333,
             "#9c179e"
            ],
            [
             0.4444444444444444,
             "#bd3786"
            ],
            [
             0.5555555555555556,
             "#d8576b"
            ],
            [
             0.6666666666666666,
             "#ed7953"
            ],
            [
             0.7777777777777778,
             "#fb9f3a"
            ],
            [
             0.8888888888888888,
             "#fdca26"
            ],
            [
             1,
             "#f0f921"
            ]
           ],
           "sequentialminus": [
            [
             0,
             "#0d0887"
            ],
            [
             0.1111111111111111,
             "#46039f"
            ],
            [
             0.2222222222222222,
             "#7201a8"
            ],
            [
             0.3333333333333333,
             "#9c179e"
            ],
            [
             0.4444444444444444,
             "#bd3786"
            ],
            [
             0.5555555555555556,
             "#d8576b"
            ],
            [
             0.6666666666666666,
             "#ed7953"
            ],
            [
             0.7777777777777778,
             "#fb9f3a"
            ],
            [
             0.8888888888888888,
             "#fdca26"
            ],
            [
             1,
             "#f0f921"
            ]
           ]
          },
          "colorway": [
           "#636efa",
           "#EF553B",
           "#00cc96",
           "#ab63fa",
           "#FFA15A",
           "#19d3f3",
           "#FF6692",
           "#B6E880",
           "#FF97FF",
           "#FECB52"
          ],
          "font": {
           "color": "#2a3f5f"
          },
          "geo": {
           "bgcolor": "white",
           "lakecolor": "white",
           "landcolor": "#E5ECF6",
           "showlakes": true,
           "showland": true,
           "subunitcolor": "white"
          },
          "hoverlabel": {
           "align": "left"
          },
          "hovermode": "closest",
          "mapbox": {
           "style": "light"
          },
          "paper_bgcolor": "white",
          "plot_bgcolor": "#E5ECF6",
          "polar": {
           "angularaxis": {
            "gridcolor": "white",
            "linecolor": "white",
            "ticks": ""
           },
           "bgcolor": "#E5ECF6",
           "radialaxis": {
            "gridcolor": "white",
            "linecolor": "white",
            "ticks": ""
           }
          },
          "scene": {
           "xaxis": {
            "backgroundcolor": "#E5ECF6",
            "gridcolor": "white",
            "gridwidth": 2,
            "linecolor": "white",
            "showbackground": true,
            "ticks": "",
            "zerolinecolor": "white"
           },
           "yaxis": {
            "backgroundcolor": "#E5ECF6",
            "gridcolor": "white",
            "gridwidth": 2,
            "linecolor": "white",
            "showbackground": true,
            "ticks": "",
            "zerolinecolor": "white"
           },
           "zaxis": {
            "backgroundcolor": "#E5ECF6",
            "gridcolor": "white",
            "gridwidth": 2,
            "linecolor": "white",
            "showbackground": true,
            "ticks": "",
            "zerolinecolor": "white"
           }
          },
          "shapedefaults": {
           "line": {
            "color": "#2a3f5f"
           }
          },
          "ternary": {
           "aaxis": {
            "gridcolor": "white",
            "linecolor": "white",
            "ticks": ""
           },
           "baxis": {
            "gridcolor": "white",
            "linecolor": "white",
            "ticks": ""
           },
           "bgcolor": "#E5ECF6",
           "caxis": {
            "gridcolor": "white",
            "linecolor": "white",
            "ticks": ""
           }
          },
          "title": {
           "x": 0.05
          },
          "xaxis": {
           "automargin": true,
           "gridcolor": "white",
           "linecolor": "white",
           "ticks": "",
           "title": {
            "standoff": 15
           },
           "zerolinecolor": "white",
           "zerolinewidth": 2
          },
          "yaxis": {
           "automargin": true,
           "gridcolor": "white",
           "linecolor": "white",
           "ticks": "",
           "title": {
            "standoff": 15
           },
           "zerolinecolor": "white",
           "zerolinewidth": 2
          }
         }
        },
        "title": {
         "text": "Hyperparameter Importances"
        },
        "xaxis": {
         "autorange": true,
         "range": [
          0,
          0.6500808617176412
         ],
         "title": {
          "text": "Importance for Objective Value"
         },
         "type": "linear"
        },
        "yaxis": {
         "autorange": true,
         "range": [
          -0.5,
          3.5
         ],
         "title": {
          "text": "Hyperparameter"
         },
         "type": "category"
        }
       }
      },
      "image/png": "[encoded data removed]",
      "text/html": [
       "<div>                            <div id=\"4b5be206-aaf0-48ea-b853-8fdd1bd8a0c2\" class=\"plotly-graph-div\" style=\"height:525px; width:100%;\"></div>            <script type=\"text/javascript\">                require([\"plotly\"], function(Plotly) {                    window.PLOTLYENV=window.PLOTLYENV || {};                                    if (document.getElementById(\"4b5be206-aaf0-48ea-b853-8fdd1bd8a0c2\")) {                    Plotly.newPlot(                        \"4b5be206-aaf0-48ea-b853-8fdd1bd8a0c2\",                        [{\"cliponaxis\":false,\"hovertemplate\":[\"N_STEPS (IntDistribution): 0.0<extra></extra>\",\"LAMBDA_SPARSE (FloatDistribution): 0.16823525642362874<extra></extra>\",\"GAMMA (FloatDistribution): 0.21418792494461217<extra></extra>\",\"N_D (IntDistribution): 0.6175768186317592<extra></extra>\"],\"marker\":{\"color\":\"rgb(66,146,198)\"},\"orientation\":\"h\",\"text\":[\"<0.01\",\"0.17\",\"0.21\",\"0.62\"],\"textposition\":\"outside\",\"x\":[0.0,0.16823525642362874,0.21418792494461217,0.6175768186317592],\"y\":[\"N_STEPS\",\"LAMBDA_SPARSE\",\"GAMMA\",\"N_D\"],\"type\":\"bar\"}],                        {\"showlegend\":false,\"title\":{\"text\":\"Hyperparameter Importances\"},\"xaxis\":{\"title\":{\"text\":\"Importance for Objective Value\"}},\"yaxis\":{\"title\":{\"text\":\"Hyperparameter\"}},\"template\":{\"data\":{\"histogram2dcontour\":[{\"type\":\"histogram2dcontour\",\"colorbar\":{\"outlinewidth\":0,\"ticks\":\"\"},\"colorscale\":[[0.0,\"#0d0887\"],[0.1111111111111111,\"#46039f\"],[0.2222222222222222,\"#7201a8\"],[0.3333333333333333,\"#9c179e\"],[0.4444444444444444,\"#bd3786\"],[0.5555555555555556,\"#d8576b\"],[0.6666666666666666,\"#ed7953\"],[0.7777777777777778,\"#fb9f3a\"],[0.8888888888888888,\"#fdca26\"],[1.0,\"#f0f921\"]]}],\"choropleth\":[{\"type\":\"choropleth\",\"colorbar\":{\"outlinewidth\":0,\"ticks\":\"\"}}],\"histogram2d\":[{\"type\":\"histogram2d\",\"colorbar\":{\"outlinewidth\":0,\"ticks\":\"\"},\"colorscale\":[[0.0,\"#0d0887\"],[0.1111111111111111,\"#46039f\"],[0.2222222222222222,\"#7201a8\"],[0.3333333333333333,\"#9c179e\"],[0.4444444444444444,\"#bd3786\"],[0.5555555555555556,\"#d8576b\"],[0.6666666666666666,\"#ed7953\"],[0.7777777777777778,\"#fb9f3a\"],[0.8888888888888888,\"#fdca26\"],[1.0,\"#f0f921\"]]}],\"heatmap\":[{\"type\":\"heatmap\",\"colorbar\":{\"outlinewidth\":0,\"ticks\":\"\"},\"colorscale\":[[0.0,\"#0d0887\"],[0.1111111111111111,\"#46039f\"],[0.2222222222222222,\"#7201a8\"],[0.3333333333333333,\"#9c179e\"],[0.4444444444444444,\"#bd3786\"],[0.5555555555555556,\"#d8576b\"],[0.6666666666666666,\"#ed7953\"],[0.7777777777777778,\"#fb9f3a\"],[0.8888888888888888,\"#fdca26\"],[1.0,\"#f0f921\"]]}],\"heatmapgl\":[{\"type\":\"heatmapgl\",\"colorbar\":{\"outlinewidth\":0,\"ticks\":\"\"},\"colorscale\":[[0.0,\"#0d0887\"],[0.1111111111111111,\"#46039f\"],[0.2222222222222222,\"#7201a8\"],[0.3333333333333333,\"#9c179e\"],[0.4444444444444444,\"#bd3786\"],[0.5555555555555556,\"#d8576b\"],[0.6666666666666666,\"#ed7953\"],[0.7777777777777778,\"#fb9f3a\"],[0.8888888888888888,\"#fdca26\"],[1.0,\"#f0f921\"]]}],\"contourcarpet\":[{\"type\":\"contourcarpet\",\"colorbar\":{\"outlinewidth\":0,\"ticks\":\"\"}}],\"contour\":[{\"type\":\"contour\",\"colorbar\":{\"outlinewidth\":0,\"ticks\":\"\"},\"colorscale\":[[0.0,\"#0d0887\"],[0.1111111111111111,\"#46039f\"],[0.2222222222222222,\"#7201a8\"],[0.3333333333333333,\"#9c179e\"],[0.4444444444444444,\"#bd3786\"],[0.5555555555555556,\"#d8576b\"],[0.6666666666666666,\"#ed7953\"],[0.7777777777777778,\"#fb9f3a\"],[0.8888888888888888,\"#fdca26\"],[1.0,\"#f0f921\"]]}],\"surface\":[{\"type\":\"surface\",\"colorbar\":{\"outlinewidth\":0,\"ticks\":\"\"},\"colorscale\":[[0.0,\"#0d0887\"],[0.1111111111111111,\"#46039f\"],[0.2222222222222222,\"#7201a8\"],[0.3333333333333333,\"#9c179e\"],[0.4444444444444444,\"#bd3786\"],[0.5555555555555556,\"#d8576b\"],[0.6666666666666666,\"#ed7953\"],[0.7777777777777778,\"#fb9f3a\"],[0.8888888888888888,\"#fdca26\"],[1.0,\"#f0f921\"]]}],\"mesh3d\":[{\"type\":\"mesh3d\",\"colorbar\":{\"outlinewidth\":0,\"ticks\":\"\"}}],\"scatter\":[{\"fillpattern\":{\"fillmode\":\"overlay\",\"size\":10,\"solidity\":0.2},\"type\":\"scatter\"}],\"parcoords\":[{\"type\":\"parcoords\",\"line\":{\"colorbar\":{\"outlinewidth\":0,\"ticks\":\"\"}}}],\"scatterpolargl\":[{\"type\":\"scatterpolargl\",\"marker\":{\"colorbar\":{\"outlinewidth\":0,\"ticks\":\"\"}}}],\"bar\":[{\"error_x\":{\"color\":\"#2a3f5f\"},\"error_y\":{\"color\":\"#2a3f5f\"},\"marker\":{\"line\":{\"color\":\"#E5ECF6\",\"width\":0.5},\"pattern\":{\"fillmode\":\"overlay\",\"size\":10,\"solidity\":0.2}},\"type\":\"bar\"}],\"scattergeo\":[{\"type\":\"scattergeo\",\"marker\":{\"colorbar\":{\"outlinewidth\":0,\"ticks\":\"\"}}}],\"scatterpolar\":[{\"type\":\"scatterpolar\",\"marker\":{\"colorbar\":{\"outlinewidth\":0,\"ticks\":\"\"}}}],\"histogram\":[{\"marker\":{\"pattern\":{\"fillmode\":\"overlay\",\"size\":10,\"solidity\":0.2}},\"type\":\"histogram\"}],\"scattergl\":[{\"type\":\"scattergl\",\"marker\":{\"colorbar\":{\"outlinewidth\":0,\"ticks\":\"\"}}}],\"scatter3d\":[{\"type\":\"scatter3d\",\"line\":{\"colorbar\":{\"outlinewidth\":0,\"ticks\":\"\"}},\"marker\":{\"colorbar\":{\"outlinewidth\":0,\"ticks\":\"\"}}}],\"scattermapbox\":[{\"type\":\"scattermapbox\",\"marker\":{\"colorbar\":{\"outlinewidth\":0,\"ticks\":\"\"}}}],\"scatterternary\":[{\"type\":\"scatterternary\",\"marker\":{\"colorbar\":{\"outlinewidth\":0,\"ticks\":\"\"}}}],\"scattercarpet\":[{\"type\":\"scattercarpet\",\"marker\":{\"colorbar\":{\"outlinewidth\":0,\"ticks\":\"\"}}}],\"carpet\":[{\"aaxis\":{\"endlinecolor\":\"#2a3f5f\",\"gridcolor\":\"white\",\"linecolor\":\"white\",\"minorgridcolor\":\"white\",\"startlinecolor\":\"#2a3f5f\"},\"baxis\":{\"endlinecolor\":\"#2a3f5f\",\"gridcolor\":\"white\",\"linecolor\":\"white\",\"minorgridcolor\":\"white\",\"startlinecolor\":\"#2a3f5f\"},\"type\":\"carpet\"}],\"table\":[{\"cells\":{\"fill\":{\"color\":\"#EBF0F8\"},\"line\":{\"color\":\"white\"}},\"header\":{\"fill\":{\"color\":\"#C8D4E3\"},\"line\":{\"color\":\"white\"}},\"type\":\"table\"}],\"barpolar\":[{\"marker\":{\"line\":{\"color\":\"#E5ECF6\",\"width\":0.5},\"pattern\":{\"fillmode\":\"overlay\",\"size\":10,\"solidity\":0.2}},\"type\":\"barpolar\"}],\"pie\":[{\"automargin\":true,\"type\":\"pie\"}]},\"layout\":{\"autotypenumbers\":\"strict\",\"colorway\":[\"#636efa\",\"#EF553B\",\"#00cc96\",\"#ab63fa\",\"#FFA15A\",\"#19d3f3\",\"#FF6692\",\"#B6E880\",\"#FF97FF\",\"#FECB52\"],\"font\":{\"color\":\"#2a3f5f\"},\"hovermode\":\"closest\",\"hoverlabel\":{\"align\":\"left\"},\"paper_bgcolor\":\"white\",\"plot_bgcolor\":\"#E5ECF6\",\"polar\":{\"bgcolor\":\"#E5ECF6\",\"angularaxis\":{\"gridcolor\":\"white\",\"linecolor\":\"white\",\"ticks\":\"\"},\"radialaxis\":{\"gridcolor\":\"white\",\"linecolor\":\"white\",\"ticks\":\"\"}},\"ternary\":{\"bgcolor\":\"#E5ECF6\",\"aaxis\":{\"gridcolor\":\"white\",\"linecolor\":\"white\",\"ticks\":\"\"},\"baxis\":{\"gridcolor\":\"white\",\"linecolor\":\"white\",\"ticks\":\"\"},\"caxis\":{\"gridcolor\":\"white\",\"linecolor\":\"white\",\"ticks\":\"\"}},\"coloraxis\":{\"colorbar\":{\"outlinewidth\":0,\"ticks\":\"\"}},\"colorscale\":{\"sequential\":[[0.0,\"#0d0887\"],[0.1111111111111111,\"#46039f\"],[0.2222222222222222,\"#7201a8\"],[0.3333333333333333,\"#9c179e\"],[0.4444444444444444,\"#bd3786\"],[0.5555555555555556,\"#d8576b\"],[0.6666666666666666,\"#ed7953\"],[0.7777777777777778,\"#fb9f3a\"],[0.8888888888888888,\"#fdca26\"],[1.0,\"#f0f921\"]],\"sequentialminus\":[[0.0,\"#0d0887\"],[0.1111111111111111,\"#46039f\"],[0.2222222222222222,\"#7201a8\"],[0.3333333333333333,\"#9c179e\"],[0.4444444444444444,\"#bd3786\"],[0.5555555555555556,\"#d8576b\"],[0.6666666666666666,\"#ed7953\"],[0.7777777777777778,\"#fb9f3a\"],[0.8888888888888888,\"#fdca26\"],[1.0,\"#f0f921\"]],\"diverging\":[[0,\"#8e0152\"],[0.1,\"#c51b7d\"],[0.2,\"#de77ae\"],[0.3,\"#f1b6da\"],[0.4,\"#fde0ef\"],[0.5,\"#f7f7f7\"],[0.6,\"#e6f5d0\"],[0.7,\"#b8e186\"],[0.8,\"#7fbc41\"],[0.9,\"#4d9221\"],[1,\"#276419\"]]},\"xaxis\":{\"gridcolor\":\"white\",\"linecolor\":\"white\",\"ticks\":\"\",\"title\":{\"standoff\":15},\"zerolinecolor\":\"white\",\"automargin\":true,\"zerolinewidth\":2},\"yaxis\":{\"gridcolor\":\"white\",\"linecolor\":\"white\",\"ticks\":\"\",\"title\":{\"standoff\":15},\"zerolinecolor\":\"white\",\"automargin\":true,\"zerolinewidth\":2},\"scene\":{\"xaxis\":{\"backgroundcolor\":\"#E5ECF6\",\"gridcolor\":\"white\",\"linecolor\":\"white\",\"showbackground\":true,\"ticks\":\"\",\"zerolinecolor\":\"white\",\"gridwidth\":2},\"yaxis\":{\"backgroundcolor\":\"#E5ECF6\",\"gridcolor\":\"white\",\"linecolor\":\"white\",\"showbackground\":true,\"ticks\":\"\",\"zerolinecolor\":\"white\",\"gridwidth\":2},\"zaxis\":{\"backgroundcolor\":\"#E5ECF6\",\"gridcolor\":\"white\",\"linecolor\":\"white\",\"showbackground\":true,\"ticks\":\"\",\"zerolinecolor\":\"white\",\"gridwidth\":2}},\"shapedefaults\":{\"line\":{\"color\":\"#2a3f5f\"}},\"annotationdefaults\":{\"arrowcolor\":\"#2a3f5f\",\"arrowhead\":0,\"arrowwidth\":1},\"geo\":{\"bgcolor\":\"white\",\"landcolor\":\"#E5ECF6\",\"subunitcolor\":\"white\",\"showland\":true,\"showlakes\":true,\"lakecolor\":\"white\"},\"title\":{\"x\":0.05},\"mapbox\":{\"style\":\"light\"}}}},                        {\"responsive\": true}                    ).then(function(){\n",
       "                            \n",
       "var gd = document.getElementById('4b5be206-aaf0-48ea-b853-8fdd1bd8a0c2');\n",
       "var x = new MutationObserver(function (mutations, observer) {{\n",
       "        var display = window.getComputedStyle(gd).display;\n",
       "        if (!display || display === 'none') {{\n",
       "            console.log([gd, 'removed!']);\n",
       "            Plotly.purge(gd);\n",
       "            observer.disconnect();\n",
       "        }}\n",
       "}});\n",
       "\n",
       "// Listen for the removal of the full notebook cells\n",
       "var notebookContainer = gd.closest('#notebook-container');\n",
       "if (notebookContainer) {{\n",
       "    x.observe(notebookContainer, {childList: true});\n",
       "}}\n",
       "\n",
       "// Listen for the clearing of the current output cell\n",
       "var outputEl = gd.closest('.output');\n",
       "if (outputEl) {{\n",
       "    x.observe(outputEl, {childList: true});\n",
       "}}\n",
       "\n",
       "                        })                };                });            </script>        </div>"
      ]
     },
     "metadata": {},
     "output_type": "display_data"
    }
   ],
   "source": [
    "from optuna.visualization import plot_param_importances\n",
    "\n",
    "plot_param_importances(study)"
   ]
  },
  {
   "cell_type": "code",
   "execution_count": 105,
   "id": "3ce8ba2f-006e-4525-ac36-f9990865f283",
   "metadata": {},
   "outputs": [
    {
     "name": "stdout",
     "output_type": "stream",
     "text": [
      "{'N_D': 7, 'GAMMA': 1.801614258769844, 'N_STEPS': 1, 'LAMBDA_SPARSE': 1.9140458530988796e-05}\n"
     ]
    }
   ],
   "source": [
    "params_tb = study.best_trial.params\n",
    "print(params_tb)"
   ]
  },
  {
   "cell_type": "code",
   "execution_count": 107,
   "id": "781dcff2-7d98-4c03-988f-728e35ad15a4",
   "metadata": {},
   "outputs": [
    {
     "data": {
      "text/plain": [
       "{'N_D': 7,\n",
       " 'GAMMA': 1.801614258769844,\n",
       " 'N_STEPS': 1,\n",
       " 'LAMBDA_SPARSE': 1.9140458530988796e-05}"
      ]
     },
     "execution_count": 107,
     "metadata": {},
     "output_type": "execute_result"
    }
   ],
   "source": [
    "TabNet_params = study.best_params\n",
    "TabNet_params"
   ]
  },
  {
   "cell_type": "code",
   "execution_count": 113,
   "id": "7f3a1902-fee4-4b55-ac70-65119a965a0e",
   "metadata": {},
   "outputs": [],
   "source": [
    "final_params = dict(n_d=TabNet_params['N_D'], n_steps=TabNet_params['N_STEPS'], gamma=TabNet_params['GAMMA'],\n",
    "                     lambda_sparse=TabNet_params['LAMBDA_SPARSE'], optimizer_fn=torch.optim.Adam,\n",
    "                     optimizer_params=dict(lr=1e-3, weight_decay=1e-5), verbose =0)\n",
    "\n",
    "X_train_tab = X_train.to_numpy()\n",
    "y_train_tab = y_train.to_numpy().reshape(-1, 1)\n",
    "\n",
    "regressor = TabNetRegressor(**final_params)\n",
    "regressor.fit(X_train=X_train_tab, y_train=y_train_tab, max_epochs=100, eval_metric=['r_squared'])\n",
    "\n",
    "y_pred = regressor.predict(X_test.to_numpy())"
   ]
  },
  {
   "cell_type": "code",
   "execution_count": 115,
   "id": "7ac6a753-49b2-44fd-b25f-4cefd8c5ec04",
   "metadata": {},
   "outputs": [
    {
     "data": {
      "text/plain": [
       "(100, 1)"
      ]
     },
     "execution_count": 115,
     "metadata": {},
     "output_type": "execute_result"
    }
   ],
   "source": [
    "y_pred.shape"
   ]
  },
  {
   "cell_type": "markdown",
   "id": "1269bd22-562b-4f55-a610-4df69a99ecdd",
   "metadata": {},
   "source": [
    "### Write submission file"
   ]
  },
  {
   "cell_type": "code",
   "execution_count": 130,
   "id": "33f6f802-04be-41fa-bae6-1c6c6501b869",
   "metadata": {},
   "outputs": [],
   "source": [
    "dt = pd.DataFrame(y_pred) \n",
    "dt.columns = ['price_CHF']\n",
    "dt.to_csv('results.csv', index=False)"
   ]
  }
 ],
 "metadata": {
  "kernelspec": {
   "display_name": "Python 3 (ipykernel)",
   "language": "python",
   "name": "python3"
  },
  "language_info": {
   "codemirror_mode": {
    "name": "ipython",
    "version": 3
   },
   "file_extension": ".py",
   "mimetype": "text/x-python",
   "name": "python",
   "nbconvert_exporter": "python",
   "pygments_lexer": "ipython3",
   "version": "3.9.13"
  }
 },
 "nbformat": 4,
 "nbformat_minor": 5
}
